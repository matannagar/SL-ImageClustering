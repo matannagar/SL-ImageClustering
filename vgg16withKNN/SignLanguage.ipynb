{
 "cells": [
  {
   "cell_type": "markdown",
   "id": "01ce0613",
   "metadata": {},
   "source": [
    "# The data\n",
    "This implementation will use the various images of ALS which we collected. The dataset contains more than 500 images of 25 different representational letters. "
   ]
  },
  {
   "cell_type": "markdown",
   "id": "174b0736",
   "metadata": {},
   "source": [
    "## Loading the data\n",
    "we want python to point to the location where the images are located. This way instead of loading a whole file path, we can simply just use the name of the file."
   ]
  },
  {
   "cell_type": "code",
   "execution_count": 56,
   "id": "032709ef",
   "metadata": {},
   "outputs": [],
   "source": [
    "# load_img allows us to load an image from a file as a PIL object\n",
    "from keras.preprocessing.image import load_img \n",
    "# img_to_array allows us to convert the PIL object into a NumPy array\n",
    "from keras.preprocessing.image import img_to_array \n",
    "# preproccess_input is meant to prepare your image into the format the model requires. \n",
    "# You should load images with the Keras load_img function so that you guarantee the images you load are compatible with the preprocess_input function.\n",
    "from keras.applications.vgg16 import preprocess_input \n",
    "\n",
    "# for everything else\n",
    "import os\n",
    "import numpy as np\n",
    "import matplotlib.pyplot as plt\n",
    "from random import randint\n",
    "import pandas as pd\n",
    "import pickle\n",
    "\n",
    "path = r\"C:\\Users\\matan\\My PC (DESKTOP-RLTMVS3)\\Desktop\\פרויקט גמר\\dataset\\dark photos\"\n",
    "# change the working directory to the path where the images are located\n",
    "os.chdir(path)\n",
    "\n",
    "# this list holds all the image filename\n",
    "flowers = []\n",
    "\n",
    "# creates a ScandirIterator aliased as files\n",
    "with os.scandir(path) as files:\n",
    "  # loops through each file in the directory\n",
    "    for file in files:\n",
    "        if file.name.endswith('.jpg'):\n",
    "          # adds only the image files to the flowers list\n",
    "            flowers.append(file.name)"
   ]
  },
  {
   "cell_type": "markdown",
   "id": "b081e512",
   "metadata": {},
   "source": [
    "# The model\n",
    "Using a pre-trained neural network to extract a feature vector from images and cluster the images based on how similar the feature vectors are.\n",
    "\n",
    "The pre-trained model that will be used in this tutorial is the VGG16 convolutional neural network (CNN), which is considered to be state of the art for image recognition tasks. We are going to be using this model as a feature extractor only, meaning that we will remove the final (prediction) layer so that we can obtain a feature vector."
   ]
  },
  {
   "cell_type": "code",
   "execution_count": 36,
   "id": "4c3aa848",
   "metadata": {},
   "outputs": [],
   "source": [
    "from keras.applications.vgg16 import VGG16 \n",
    "from keras.models import Model\n",
    "\n",
    "model = VGG16()\n",
    "model = Model(inputs = model.inputs, outputs = model.layers[-2].output)"
   ]
  },
  {
   "cell_type": "markdown",
   "id": "9e355608",
   "metadata": {},
   "source": [
    "## Data Preprocessing\n",
    "This is where we put the load_img() and preprocess_input() methods to use. When loading the images we are going to set the target size to (224, 224) because the VGG model expects the images it receives to be 224x224 NumPy arrays."
   ]
  },
  {
   "cell_type": "code",
   "execution_count": 37,
   "id": "c9016af8",
   "metadata": {},
   "outputs": [],
   "source": [
    "def extract_features(file, model):\n",
    "    # load the image as a 224x224 array\n",
    "    img = load_img(file, target_size=(224,224),grayscale=True)\n",
    "    # convert from 'PIL.Image.Image' to numpy array\n",
    "    img = np.array(img) \n",
    "    # reshape the data for the model reshape(num_of_samples, dim 1, dim 2, channels)\n",
    "    reshaped_img = img.reshape(1,224,224,3) \n",
    "    # prepare image for model\n",
    "    imgx = preprocess_input(reshaped_img)\n",
    "    # get the feature vector\n",
    "    features = model.predict(imgx, use_multiprocessing=True)\n",
    "    return features"
   ]
  },
  {
   "cell_type": "code",
   "execution_count": 57,
   "id": "f5993637",
   "metadata": {},
   "outputs": [],
   "source": [
    "data = {}\n",
    "\n",
    "# lop through each image in the dataset\n",
    "for flower in flowers:\n",
    "    # try to extract the features and update the dictionary\n",
    "    try:\n",
    "        feat = extract_features(flower,model)\n",
    "        data[flower] = feat\n",
    "    # if something fails, save the extracted features as a pickle file (optional)\n",
    "    except:\n",
    "        print(\"error extracting feature from the image\")\n",
    "          \n",
    "# get a list of the filenames\n",
    "filenames = np.array(list(data.keys()))"
   ]
  },
  {
   "cell_type": "code",
   "execution_count": 58,
   "id": "ca7a0fc1",
   "metadata": {},
   "outputs": [],
   "source": [
    "# get a list of just the features\n",
    "feat = np.array(list(data.values()))\n",
    "\n",
    "# reshape so that there are 210 samples of 4096 vectors\n",
    "feat = feat.reshape(-1,4096)\n",
    "\n",
    "# get the unique labels \n",
    "unique_labels = list(map(chr, range(97, 123)))"
   ]
  },
  {
   "cell_type": "markdown",
   "id": "94d7b80a",
   "metadata": {},
   "source": [
    "## Dimensionality Reduction\n",
    "Simply put, if you are working with data and have a lot of variables to consider (in our case 4096), PCA allows you to reduce the number of variables while preserving as much information from the original set as possible.\n",
    "\n",
    "The number of dimensions to reduce down to is up to you and I'm sure there's a method for finding the best number of components to use, but for this case, I just chose 100 as an arbitrary number."
   ]
  },
  {
   "cell_type": "code",
   "execution_count": 67,
   "id": "14a08d3a",
   "metadata": {},
   "outputs": [],
   "source": [
    "# PCA for reducing the dimensions of our feature vector\n",
    "from sklearn.decomposition import PCA\n",
    "\n",
    "pca = PCA(n_components=100, random_state=22)\n",
    "pca.fit(feat)\n",
    "x = pca.transform(feat)"
   ]
  },
  {
   "cell_type": "markdown",
   "id": "bdfbd19a",
   "metadata": {},
   "source": [
    "## KMeans clustering\n",
    "This algorithm will allow us to group our feature vectors into k clusters. Each cluster should contain images that are visually similar. In this case, we know there are 10 different species of flowers so we can have k = 26."
   ]
  },
  {
   "cell_type": "code",
   "execution_count": null,
   "id": "6f05c29d",
   "metadata": {},
   "outputs": [],
   "source": [
    "# clustering and dimension reduction\n",
    "from sklearn.cluster import KMeans\n",
    "\n",
    "# cluster feature vectors\n",
    "kmeans = KMeans(n_clusters=len(unique_labels), random_state=22)\n",
    "kmeans.fit(x)"
   ]
  },
  {
   "cell_type": "code",
   "execution_count": null,
   "id": "9b254474",
   "metadata": {},
   "outputs": [],
   "source": [
    "# holds the cluster id and the images { id: [images] }\n",
    "groups = {}\n",
    "for file, cluster in zip(filenames,kmeans.labels_):\n",
    "    if cluster not in groups.keys():\n",
    "        groups[cluster] = []\n",
    "        groups[cluster].append(file)\n",
    "    else:\n",
    "        groups[cluster].append(file)"
   ]
  },
  {
   "cell_type": "code",
   "execution_count": 50,
   "id": "b4746282",
   "metadata": {},
   "outputs": [],
   "source": [
    "# function that lets you view a cluster (based on identifier)        \n",
    "def view_cluster(cluster):\n",
    "    plt.figure(figsize = (25,25));\n",
    "    # gets the list of filenames for a cluster\n",
    "    files = groups[cluster]\n",
    "    # only allow up to 30 images to be shown at a time\n",
    "    if len(files) > 30:\n",
    "        print(f\"Clipping cluster size from {len(files)} to 30\")\n",
    "        files = files[:29]\n",
    "    # plot each image in the cluster\n",
    "    for index, file in enumerate(files):\n",
    "        plt.subplot(10,10,index+1);\n",
    "        img = load_img(file)\n",
    "        img = np.array(img)\n",
    "        plt.imshow(img)\n",
    "        plt.axis('off')"
   ]
  },
  {
   "cell_type": "code",
   "execution_count": 68,
   "id": "5bc85b42",
   "metadata": {},
   "outputs": [
    {
     "name": "stdout",
     "output_type": "stream",
     "text": [
      "0 ['A109.jpg', 'A110.jpg', 'A111.jpg', 'A121.jpg', 'A122.jpg', 'A123.jpg', 'A85.jpg', 'A86.jpg', 'A87.jpg', 'A97.jpg', 'A98.jpg', 'A99.jpg']\n",
      "1 ['X13.jpg', 'X14.jpg', 'X15.jpg', 'X16.jpg', 'X25.jpg', 'X26.jpg', 'X27.jpg', 'X28.jpg', 'X37.jpg', 'X38.jpg', 'X39.jpg', 'X40.jpg']\n",
      "2 ['Q169.jpg', 'Q170.jpg', 'Q171.jpg', 'Q172.jpg', 'Q173.jpg', 'Q181.jpg', 'Q182.jpg', 'Q183.jpg', 'Q184.jpg', 'Q185.jpg']\n",
      "3 ['A37.jpg', 'A38.jpg', 'A39.jpg', 'A49.jpg', 'A50.jpg', 'A51.jpg', 'A73.jpg', 'A74.jpg', 'A75.jpg']\n",
      "4 ['W1.jpg', 'W13.jpg', 'W14.jpg', 'W15.jpg', 'W2.jpg', 'W25.jpg', 'W26.jpg', 'W27.jpg', 'W3.jpg']\n",
      "5 ['K13.jpg', 'K14.jpg', 'K15.jpg', 'K16.jpg', 'K37.jpg', 'K38.jpg', 'K39.jpg', 'K40.jpg']\n",
      "6 ['S13.jpg', 'S14.jpg', 'S15.jpg', 'S16.jpg', 'S25.jpg', 'S26.jpg', 'S27.jpg', 'S28.jpg']\n",
      "7 ['B25.jpg', 'B26.jpg', 'B27.jpg', 'B37.jpg', 'B38.jpg', 'B39.jpg']\n",
      "8 ['B1.jpg', 'B13.jpg', 'B14.jpg', 'B15.jpg', 'B2.jpg', 'B3.jpg']\n",
      "9 ['F25.jpg', 'F26.jpg', 'F27.jpg', 'F28.jpg', 'F29.jpg', 'F30.jpg']\n",
      "10 ['F37.jpg', 'F38.jpg', 'F39.jpg', 'F40.jpg', 'F41.jpg', 'F42.jpg']\n",
      "11 ['D1.jpg', 'D13.jpg', 'D14.jpg', 'D15.jpg', 'D2.jpg', 'D3.jpg']\n",
      "12 ['Y15.jpg', 'Y16.jpg', 'Y25.jpg', 'Y26.jpg', 'Y27.jpg', 'Y28.jpg']\n",
      "13 ['U13.jpg', 'U14.jpg', 'U15.jpg', 'U25.jpg', 'U26.jpg', 'U27.jpg']\n",
      "14 ['H13.jpg', 'H14.jpg', 'H15.jpg', 'H25.jpg', 'H26.jpg', 'H27.jpg']\n"
     ]
    },
    {
     "ename": "FileExistsError",
     "evalue": "[WinError 183] Cannot create a file when that file already exists: 'C:\\\\Users\\\\matan\\\\My PC (DESKTOP-RLTMVS3)\\\\Desktop\\\\פרויקט גמר\\\\dataset\\\\dark photos\\\\15'",
     "output_type": "error",
     "traceback": [
      "\u001b[1;31m---------------------------------------------------------------------------\u001b[0m",
      "\u001b[1;31mFileExistsError\u001b[0m                           Traceback (most recent call last)",
      "\u001b[1;32m~\\AppData\\Local\\Temp/ipykernel_9052/369634605.py\u001b[0m in \u001b[0;36m<module>\u001b[1;34m\u001b[0m\n\u001b[0;32m      5\u001b[0m \u001b[1;32mfor\u001b[0m \u001b[0mi\u001b[0m \u001b[1;32min\u001b[0m \u001b[0mrange\u001b[0m\u001b[1;33m(\u001b[0m\u001b[0mlen\u001b[0m\u001b[1;33m(\u001b[0m\u001b[0mgroups\u001b[0m\u001b[1;33m)\u001b[0m\u001b[1;33m)\u001b[0m\u001b[1;33m:\u001b[0m\u001b[1;33m\u001b[0m\u001b[1;33m\u001b[0m\u001b[0m\n\u001b[0;32m      6\u001b[0m     \u001b[0mpath\u001b[0m \u001b[1;33m=\u001b[0m \u001b[0mos\u001b[0m\u001b[1;33m.\u001b[0m\u001b[0mpath\u001b[0m\u001b[1;33m.\u001b[0m\u001b[0mjoin\u001b[0m\u001b[1;33m(\u001b[0m\u001b[0mparent_dir\u001b[0m\u001b[1;33m,\u001b[0m \u001b[0mstr\u001b[0m\u001b[1;33m(\u001b[0m\u001b[0mi\u001b[0m\u001b[1;33m)\u001b[0m\u001b[1;33m)\u001b[0m\u001b[1;33m\u001b[0m\u001b[1;33m\u001b[0m\u001b[0m\n\u001b[1;32m----> 7\u001b[1;33m     \u001b[0mos\u001b[0m\u001b[1;33m.\u001b[0m\u001b[0mmakedirs\u001b[0m\u001b[1;33m(\u001b[0m\u001b[0mpath\u001b[0m\u001b[1;33m)\u001b[0m\u001b[1;33m\u001b[0m\u001b[1;33m\u001b[0m\u001b[0m\n\u001b[0m\u001b[0;32m      8\u001b[0m     \u001b[1;32mfor\u001b[0m \u001b[0ms\u001b[0m \u001b[1;32min\u001b[0m \u001b[0mgroups\u001b[0m\u001b[1;33m[\u001b[0m\u001b[0mi\u001b[0m\u001b[1;33m]\u001b[0m\u001b[1;33m:\u001b[0m\u001b[1;33m\u001b[0m\u001b[1;33m\u001b[0m\u001b[0m\n\u001b[0;32m      9\u001b[0m         \u001b[1;32mif\u001b[0m \u001b[0mos\u001b[0m\u001b[1;33m.\u001b[0m\u001b[0mpath\u001b[0m\u001b[1;33m.\u001b[0m\u001b[0misfile\u001b[0m\u001b[1;33m(\u001b[0m\u001b[0ms\u001b[0m\u001b[1;33m)\u001b[0m\u001b[1;33m:\u001b[0m\u001b[1;33m\u001b[0m\u001b[1;33m\u001b[0m\u001b[0m\n",
      "\u001b[1;32m~\\AppData\\Local\\Programs\\Python\\Python38\\lib\\os.py\u001b[0m in \u001b[0;36mmakedirs\u001b[1;34m(name, mode, exist_ok)\u001b[0m\n\u001b[0;32m    221\u001b[0m             \u001b[1;32mreturn\u001b[0m\u001b[1;33m\u001b[0m\u001b[1;33m\u001b[0m\u001b[0m\n\u001b[0;32m    222\u001b[0m     \u001b[1;32mtry\u001b[0m\u001b[1;33m:\u001b[0m\u001b[1;33m\u001b[0m\u001b[1;33m\u001b[0m\u001b[0m\n\u001b[1;32m--> 223\u001b[1;33m         \u001b[0mmkdir\u001b[0m\u001b[1;33m(\u001b[0m\u001b[0mname\u001b[0m\u001b[1;33m,\u001b[0m \u001b[0mmode\u001b[0m\u001b[1;33m)\u001b[0m\u001b[1;33m\u001b[0m\u001b[1;33m\u001b[0m\u001b[0m\n\u001b[0m\u001b[0;32m    224\u001b[0m     \u001b[1;32mexcept\u001b[0m \u001b[0mOSError\u001b[0m\u001b[1;33m:\u001b[0m\u001b[1;33m\u001b[0m\u001b[1;33m\u001b[0m\u001b[0m\n\u001b[0;32m    225\u001b[0m         \u001b[1;31m# Cannot rely on checking for EEXIST, since the operating system\u001b[0m\u001b[1;33m\u001b[0m\u001b[1;33m\u001b[0m\u001b[1;33m\u001b[0m\u001b[0m\n",
      "\u001b[1;31mFileExistsError\u001b[0m: [WinError 183] Cannot create a file when that file already exists: 'C:\\\\Users\\\\matan\\\\My PC (DESKTOP-RLTMVS3)\\\\Desktop\\\\פרויקט גמר\\\\dataset\\\\dark photos\\\\15'"
     ]
    }
   ],
   "source": [
    "import shutil\n",
    "\n",
    "parent_dir = r\"C:\\Users\\matan\\My PC (DESKTOP-RLTMVS3)\\Desktop\\פרויקט גמר\\dataset\\dark photos\"\n",
    "\n",
    "for i in range(len(groups)):\n",
    "    path = os.path.join(parent_dir, str(i))\n",
    "    os.makedirs(path)\n",
    "    for s in groups[i]:\n",
    "        if os.path.isfile(s): \n",
    "            shutil.move(s, path)\n",
    "    print(i, groups[i])"
   ]
  }
 ],
 "metadata": {
  "kernelspec": {
   "display_name": "Python 3 (ipykernel)",
   "language": "python",
   "name": "python3"
  },
  "language_info": {
   "codemirror_mode": {
    "name": "ipython",
    "version": 3
   },
   "file_extension": ".py",
   "mimetype": "text/x-python",
   "name": "python",
   "nbconvert_exporter": "python",
   "pygments_lexer": "ipython3",
   "version": "3.8.6"
  }
 },
 "nbformat": 4,
 "nbformat_minor": 5
}
