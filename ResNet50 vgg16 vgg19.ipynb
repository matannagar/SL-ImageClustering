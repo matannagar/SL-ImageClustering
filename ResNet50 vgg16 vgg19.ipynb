{
 "cells": [
  {
   "cell_type": "markdown",
   "id": "33f71075",
   "metadata": {},
   "source": [
    "# Unsupervised Clustering of Hebrew sign language Letters"
   ]
  },
  {
   "cell_type": "markdown",
   "id": "0c50c17d",
   "metadata": {},
   "source": [
    "### what is done in this notebook?"
   ]
  },
  {
   "cell_type": "markdown",
   "id": "afae1a2c",
   "metadata": {},
   "source": [
    "In this notebook, we will explore how we can give the computer a group of SIgn language images, and it can cluster the ones with the same Letter together.\n",
    "\n",
    "We will be doing that by encoding the images through a trained convolutional network, and then apply a clustering algorithm to the encoded features. We can then check the clusters and see if it worked!"
   ]
  },
  {
   "cell_type": "markdown",
   "id": "c5cf08ba",
   "metadata": {},
   "source": [
    "### libraries"
   ]
  },
  {
   "cell_type": "markdown",
   "id": "31b2d828",
   "metadata": {},
   "source": [
    "Keras using tensorflow backend."
   ]
  },
  {
   "cell_type": "code",
   "execution_count": 1,
   "id": "16a8360d",
   "metadata": {},
   "outputs": [],
   "source": [
    "%matplotlib inline\n",
    "\n",
    "import time\n",
    "import os, os.path\n",
    "import random\n",
    "import cv2\n",
    "import glob\n",
    "import keras\n",
    "import matplotlib\n",
    "import matplotlib.pyplot as plt\n",
    "from sklearn.model_selection import train_test_split\n",
    "from sklearn.cluster import KMeans\n",
    "from sklearn.mixture import GaussianMixture\n",
    "from sklearn.decomposition import PCA\n",
    "\n",
    "import pandas as pd\n",
    "import numpy as np"
   ]
  },
  {
   "cell_type": "markdown",
   "id": "9566161e",
   "metadata": {},
   "source": [
    "## Dataset"
   ]
  },
  {
   "cell_type": "markdown",
   "id": "179c4f97",
   "metadata": {},
   "source": [
    "The images are split to folders, each folder represents a different letter.\n",
    "each letter contains over 4500 images, we do not need such a great amount so we kept 500 images for each, and started by using only A,B,C,D so that we can decide which model are worth persuing."
   ]
  },
  {
   "cell_type": "code",
   "execution_count": 2,
   "id": "65a49345",
   "metadata": {},
   "outputs": [],
   "source": [
    "TRAIN_DIR = \"D:/images/train\"\n",
    "TEST_DIR = \"D:/images/test\"\n",
    "\n",
    "def dataset_stats():\n",
    "    \n",
    "    # This is an array with the letters available.\n",
    "    # If you add another animal later, you will need to structure its images in the same way\n",
    "    # and add its letter to this array\n",
    "    letters = ['A', 'B', 'C', 'D', 'E', 'F', 'G', 'H', 'I', 'J', 'K', 'L', 'M', 'N', 'O', 'P', 'Q', 'R', 'S', 'T', 'U', 'V']\n",
    "    \n",
    "    # dictionary where we will store the stats\n",
    "    stats = []\n",
    "    \n",
    "    for letter in letters:\n",
    "        # get a list of subdirectories that start with this character\n",
    "        directory_list = sorted(glob.glob(\"{}/[{}]*\".format(TRAIN_DIR, letter)))\n",
    "        \n",
    "        for sub_directory in directory_list:\n",
    "            file_names = [file for file in os.listdir(sub_directory)]\n",
    "            file_count = 500\n",
    "            sub_directory_name = os.path.basename(sub_directory)\n",
    "            stats.append({ \"Code\": os.path.basename(sub_directory),\n",
    "                            \"Image count\": file_count, \n",
    "                           \"Folder name\": os.path.basename(sub_directory),\n",
    "                            \"File names\": file_names})\n",
    "    \n",
    "    \n",
    "    df = pd.DataFrame(stats)\n",
    "    \n",
    "    return df\n"
   ]
  },
  {
   "cell_type": "code",
   "execution_count": 3,
   "id": "43c91e40",
   "metadata": {},
   "outputs": [
    {
     "data": {
      "text/html": [
       "<div>\n",
       "<style scoped>\n",
       "    .dataframe tbody tr th:only-of-type {\n",
       "        vertical-align: middle;\n",
       "    }\n",
       "\n",
       "    .dataframe tbody tr th {\n",
       "        vertical-align: top;\n",
       "    }\n",
       "\n",
       "    .dataframe thead th {\n",
       "        text-align: right;\n",
       "    }\n",
       "</style>\n",
       "<table border=\"1\" class=\"dataframe\">\n",
       "  <thead>\n",
       "    <tr style=\"text-align: right;\">\n",
       "      <th></th>\n",
       "      <th>Folder name</th>\n",
       "      <th>Image count</th>\n",
       "    </tr>\n",
       "    <tr>\n",
       "      <th>Code</th>\n",
       "      <th></th>\n",
       "      <th></th>\n",
       "    </tr>\n",
       "  </thead>\n",
       "  <tbody>\n",
       "    <tr>\n",
       "      <th>A</th>\n",
       "      <td>A</td>\n",
       "      <td>500</td>\n",
       "    </tr>\n",
       "    <tr>\n",
       "      <th>B</th>\n",
       "      <td>B</td>\n",
       "      <td>500</td>\n",
       "    </tr>\n",
       "    <tr>\n",
       "      <th>C</th>\n",
       "      <td>C</td>\n",
       "      <td>500</td>\n",
       "    </tr>\n",
       "    <tr>\n",
       "      <th>D</th>\n",
       "      <td>D</td>\n",
       "      <td>500</td>\n",
       "    </tr>\n",
       "    <tr>\n",
       "      <th>E</th>\n",
       "      <td>E</td>\n",
       "      <td>500</td>\n",
       "    </tr>\n",
       "    <tr>\n",
       "      <th>F</th>\n",
       "      <td>F</td>\n",
       "      <td>500</td>\n",
       "    </tr>\n",
       "    <tr>\n",
       "      <th>G</th>\n",
       "      <td>G</td>\n",
       "      <td>500</td>\n",
       "    </tr>\n",
       "    <tr>\n",
       "      <th>H</th>\n",
       "      <td>H</td>\n",
       "      <td>500</td>\n",
       "    </tr>\n",
       "    <tr>\n",
       "      <th>I</th>\n",
       "      <td>I</td>\n",
       "      <td>500</td>\n",
       "    </tr>\n",
       "    <tr>\n",
       "      <th>J</th>\n",
       "      <td>J</td>\n",
       "      <td>500</td>\n",
       "    </tr>\n",
       "    <tr>\n",
       "      <th>K</th>\n",
       "      <td>K</td>\n",
       "      <td>500</td>\n",
       "    </tr>\n",
       "    <tr>\n",
       "      <th>L</th>\n",
       "      <td>L</td>\n",
       "      <td>500</td>\n",
       "    </tr>\n",
       "    <tr>\n",
       "      <th>M</th>\n",
       "      <td>M</td>\n",
       "      <td>500</td>\n",
       "    </tr>\n",
       "    <tr>\n",
       "      <th>N</th>\n",
       "      <td>N</td>\n",
       "      <td>500</td>\n",
       "    </tr>\n",
       "    <tr>\n",
       "      <th>O</th>\n",
       "      <td>O</td>\n",
       "      <td>500</td>\n",
       "    </tr>\n",
       "    <tr>\n",
       "      <th>P</th>\n",
       "      <td>P</td>\n",
       "      <td>500</td>\n",
       "    </tr>\n",
       "    <tr>\n",
       "      <th>Q</th>\n",
       "      <td>Q</td>\n",
       "      <td>500</td>\n",
       "    </tr>\n",
       "    <tr>\n",
       "      <th>R</th>\n",
       "      <td>R</td>\n",
       "      <td>500</td>\n",
       "    </tr>\n",
       "    <tr>\n",
       "      <th>S</th>\n",
       "      <td>S</td>\n",
       "      <td>500</td>\n",
       "    </tr>\n",
       "    <tr>\n",
       "      <th>T</th>\n",
       "      <td>T</td>\n",
       "      <td>500</td>\n",
       "    </tr>\n",
       "    <tr>\n",
       "      <th>U</th>\n",
       "      <td>U</td>\n",
       "      <td>500</td>\n",
       "    </tr>\n",
       "    <tr>\n",
       "      <th>V</th>\n",
       "      <td>V</td>\n",
       "      <td>500</td>\n",
       "    </tr>\n",
       "  </tbody>\n",
       "</table>\n",
       "</div>"
      ],
      "text/plain": [
       "     Folder name  Image count\n",
       "Code                         \n",
       "A              A          500\n",
       "B              B          500\n",
       "C              C          500\n",
       "D              D          500\n",
       "E              E          500\n",
       "F              F          500\n",
       "G              G          500\n",
       "H              H          500\n",
       "I              I          500\n",
       "J              J          500\n",
       "K              K          500\n",
       "L              L          500\n",
       "M              M          500\n",
       "N              N          500\n",
       "O              O          500\n",
       "P              P          500\n",
       "Q              Q          500\n",
       "R              R          500\n",
       "S              S          500\n",
       "T              T          500\n",
       "U              U          500\n",
       "V              V          500"
      ]
     },
     "execution_count": 3,
     "metadata": {},
     "output_type": "execute_result"
    }
   ],
   "source": [
    "# Show codes with their folder names and image counts\n",
    "dataset = dataset_stats().set_index(\"Code\")\n",
    "dataset[[\"Folder name\", \"Image count\"]]"
   ]
  },
  {
   "cell_type": "markdown",
   "id": "1014284b",
   "metadata": {},
   "source": [
    "### loading the images\n",
    "Now we create a function that loads all images in a directory for a given array of codes in one array and creates the corresponding label array for them.\n",
    "\n",
    "Loaded images are resized to 224 x 224 before storing them in our array"
   ]
  },
  {
   "cell_type": "code",
   "execution_count": 4,
   "id": "4434ea66",
   "metadata": {},
   "outputs": [],
   "source": [
    "# Function returns an array of images whoose filenames start with a given set of characters\n",
    "# after resizing them to 224 x 224\n",
    "\n",
    "def load_images(codes):\n",
    "    \n",
    "    # Define empty arrays where we will store our images and labels\n",
    "    images = []\n",
    "    labels = []\n",
    "    \n",
    "    for code in codes:\n",
    "        # get the folder name for this code\n",
    "        folder_name = dataset.loc[code][\"Folder name\"]\n",
    "        \n",
    "        for file in dataset.loc[code][\"File names\"]:                 \n",
    "            # build file path\n",
    "            file_path = os.path.join(TRAIN_DIR, folder_name, file)\n",
    "        \n",
    "            # Read the image\n",
    "            image = cv2.imread(file_path)\n",
    "\n",
    "            # Resize it to 224 x 224\n",
    "            image = cv2.resize(image, (224,224))\n",
    "\n",
    "            # Convert it from BGR to RGB so we can plot them later (because openCV reads images as BGR)\n",
    "            image = cv2.cvtColor(image, cv2.COLOR_BGR2RGB)\n",
    "\n",
    "            # Now we add it to our array\n",
    "            images.append(image)\n",
    "            labels.append(code)\n",
    "\n",
    "    return images, labels"
   ]
  },
  {
   "cell_type": "markdown",
   "id": "d7fa92c4",
   "metadata": {},
   "source": [
    "#### Now we chose our codes for the letters that we want and load the images and labels"
   ]
  },
  {
   "cell_type": "code",
   "execution_count": 5,
   "id": "c0974d7b",
   "metadata": {},
   "outputs": [],
   "source": [
    "codes = [\"A\", \"B\", \"C\", \"D\"]\n",
    "images, labels = load_images(codes)"
   ]
  },
  {
   "cell_type": "markdown",
   "id": "ee4dc869",
   "metadata": {},
   "source": [
    "Let's have a look at the letters we have loaded! The photos will not be in their original aspect ratio since we've resized them to fit what VGG needs."
   ]
  },
  {
   "cell_type": "code",
   "execution_count": 6,
   "id": "314f4fe2",
   "metadata": {},
   "outputs": [],
   "source": [
    "def show_random_images(images, labels, number_of_images_to_show=2):\n",
    "\n",
    "    for code in list(set(labels)):\n",
    "\n",
    "        indicies = [i for i, label in enumerate(labels) if label == code]\n",
    "        random_indicies = [random.choice(indicies) for i in range(number_of_images_to_show)]\n",
    "        figure, axis = plt.subplots(1, number_of_images_to_show)\n",
    "\n",
    "        print(\"{} random images for code {}\".format(number_of_images_to_show, code))\n",
    "\n",
    "        for image in range(number_of_images_to_show):\n",
    "            axis[image].imshow(images[random_indicies[image]])\n",
    "        plt.show()"
   ]
  },
  {
   "cell_type": "code",
   "execution_count": 7,
   "id": "68d4c8fc",
   "metadata": {},
   "outputs": [
    {
     "name": "stdout",
     "output_type": "stream",
     "text": [
      "2 random images for code B\n"
     ]
    },
    {
     "data": {
      "image/png": "[encoded data removed]",
      "text/plain": [
       "<Figure size 432x288 with 2 Axes>"
      ]
     },
     "metadata": {
      "needs_background": "light"
     },
     "output_type": "display_data"
    },
    {
     "name": "stdout",
     "output_type": "stream",
     "text": [
      "2 random images for code A\n"
     ]
    },
    {
     "data": {
      "image/png": "[encoded data removed]",
      "text/plain": [
       "<Figure size 432x288 with 2 Axes>"
      ]
     },
     "metadata": {
      "needs_background": "light"
     },
     "output_type": "display_data"
    },
    {
     "name": "stdout",
     "output_type": "stream",
     "text": [
      "2 random images for code C\n"
     ]
    },
    {
     "data": {
      "image/png": "[encoded data removed]",
      "text/plain": [
       "<Figure size 432x288 with 2 Axes>"
      ]
     },
     "metadata": {
      "needs_background": "light"
     },
     "output_type": "display_data"
    },
    {
     "name": "stdout",
     "output_type": "stream",
     "text": [
      "2 random images for code D\n"
     ]
    },
    {
     "data": {
      "image/png": "[encoded data removed]",
      "text/plain": [
       "<Figure size 432x288 with 2 Axes>"
      ]
     },
     "metadata": {
      "needs_background": "light"
     },
     "output_type": "display_data"
    }
   ],
   "source": [
    "show_random_images(images, labels)\n"
   ]
  },
  {
   "cell_type": "markdown",
   "id": "b03ddb66",
   "metadata": {},
   "source": [
    "### Normalise...\n",
    "We now convert the images and labels to NumPy arrays to make processing them easier. "
   ]
  },
  {
   "cell_type": "code",
   "execution_count": 8,
   "id": "28c3649d",
   "metadata": {},
   "outputs": [],
   "source": [
    "def normalise_images(images, labels):\n",
    "\n",
    "    # Convert to numpy arrays\n",
    "    images = np.array(images, dtype=np.float32)\n",
    "    labels = np.array(labels)\n",
    "\n",
    "    # Normalise the images\n",
    "    images /= 255\n",
    "    \n",
    "    return images, labels"
   ]
  },
  {
   "cell_type": "code",
   "execution_count": 9,
   "id": "ab085641",
   "metadata": {},
   "outputs": [],
   "source": [
    "images, labels = normalise_images(images, labels)\n"
   ]
  },
  {
   "cell_type": "markdown",
   "id": "0ab9d5fc",
   "metadata": {},
   "source": [
    "### shuffle\n",
    "we will shuffle the data so it is mixed up. before spliting it to train and test."
   ]
  },
  {
   "cell_type": "code",
   "execution_count": 10,
   "id": "63f9d13c",
   "metadata": {},
   "outputs": [],
   "source": [
    "def shuffle_data(images, labels):\n",
    "\n",
    "    # Set aside the testing data. We won't touch these until the very end.\n",
    "    X_train, X_test, y_train, y_test = train_test_split(images, labels, test_size=0.2, random_state=728)\n",
    "    \n",
    "    return X_train, y_train"
   ]
  },
  {
   "cell_type": "code",
   "execution_count": 11,
   "id": "96fe9dbb",
   "metadata": {},
   "outputs": [],
   "source": [
    "X_train, y_train = shuffle_data(images, labels)\n"
   ]
  },
  {
   "cell_type": "markdown",
   "id": "a9f7bb4a",
   "metadata": {},
   "source": [
    "## Loading pre-trained covnet model of :\n",
    "### ResNet50, VGG16, VGG19\n",
    "We'll now load up the keras models with the imagenet weights. We'll remove the top dense layers, since we won't need to classify things here, and we just want these encoded features from the images."
   ]
  },
  {
   "cell_type": "code",
   "execution_count": 12,
   "id": "1c4b7eaf",
   "metadata": {},
   "outputs": [],
   "source": [
    "# Load the models with ImageNet weights\n",
    "import tensorflow\n",
    "from tensorflow.keras import applications\n",
    "from tensorflow.keras.applications.resnet50 import ResNet50\n",
    "\n",
    "# Load the models with ImageNet weights\n",
    "\n",
    "vgg16_model = keras.applications.vgg16.VGG16(include_top=False, weights=\"imagenet\", input_shape=(224,224,3))\n",
    "\n",
    "vgg19_model = keras.applications.vgg19.VGG19(include_top=False, weights=\"imagenet\", input_shape=(224,224,3))\n",
    "\n",
    "resnet50_model = tensorflow.keras.applications.resnet50.ResNet50(include_top=False, weights=\"imagenet\", input_shape=(224,224,3))\n"
   ]
  },
  {
   "cell_type": "markdown",
   "id": "2db6a853",
   "metadata": {},
   "source": [
    "The covnet models will give us 3D vectors that represent the image. We need to flatten these for the clustering algorithms to start working with them.\n"
   ]
  },
  {
   "cell_type": "code",
   "execution_count": 13,
   "id": "d8841cbd",
   "metadata": {},
   "outputs": [],
   "source": [
    "def covnet_transform(covnet_model, raw_images):\n",
    "\n",
    "    # Pass our training data through the network\n",
    "    pred = covnet_model.predict(raw_images)\n",
    "\n",
    "    # Flatten the array\n",
    "    flat = pred.reshape(raw_images.shape[0], -1)\n",
    "    \n",
    "    return flat"
   ]
  },
  {
   "cell_type": "code",
   "execution_count": 14,
   "id": "4d1e086f",
   "metadata": {},
   "outputs": [
    {
     "name": "stdout",
     "output_type": "stream",
     "text": [
      "50/50 [==============================] - 243s 5s/step\n",
      "VGG16 flattened output has 25088 features\n",
      "50/50 [==============================] - 323s 6s/step\n",
      "VGG19 flattened output has 25088 features\n",
      "50/50 [==============================] - 105s 2s/step\n",
      "ResNet50 flattened output has 100352 features\n"
     ]
    }
   ],
   "source": [
    "vgg16_output = covnet_transform(vgg16_model, X_train)\n",
    "print(\"VGG16 flattened output has {} features\".format(vgg16_output.shape[1]))\n",
    "\n",
    "vgg19_output = covnet_transform(vgg19_model, X_train)\n",
    "print(\"VGG19 flattened output has {} features\".format(vgg19_output.shape[1]))\n",
    "\n",
    "resnet50_output = covnet_transform(resnet50_model, X_train)\n",
    "print(\"ResNet50 flattened output has {} features\".format(resnet50_output.shape[1]))"
   ]
  },
  {
   "cell_type": "markdown",
   "id": "550b4f54",
   "metadata": {},
   "source": [
    "# PCA\n",
    "While k-means clustering has coped with these numbers, Gaussian Mixture Modelling did not, the computer consistently run out of memory and struggled to produce results.\n",
    "\n",
    "We therefore look to PCA for dimensionality reduction, so that our clustering algorithms can cope."
   ]
  },
  {
   "cell_type": "code",
   "execution_count": 15,
   "id": "925e3128",
   "metadata": {},
   "outputs": [],
   "source": [
    "# Function that creates a PCA instance, fits it to the data and returns the instance\n",
    "def create_fit_PCA(data, n_components=None):\n",
    "    \n",
    "    p = PCA(n_components=n_components, random_state=728)\n",
    "    p.fit(data)\n",
    "    \n",
    "    return p"
   ]
  },
  {
   "cell_type": "code",
   "execution_count": 16,
   "id": "a499e3be",
   "metadata": {},
   "outputs": [],
   "source": [
    "# Create PCA instances for each covnet output\n",
    "vgg16_pca = create_fit_PCA(vgg16_output)\n",
    "vgg19_pca = create_fit_PCA(vgg19_output)\n",
    "resnet50_pca = create_fit_PCA(resnet50_output)\n"
   ]
  },
  {
   "cell_type": "code",
   "execution_count": 17,
   "id": "0e426d5e",
   "metadata": {},
   "outputs": [],
   "source": [
    "# Function to plot the cumulative explained variance of PCA components\n",
    "# This will help us decide how many components we should reduce our features to\n",
    "def pca_cumsum_plot(pca):\n",
    "    plt.plot(np.cumsum(pca.explained_variance_ratio_))\n",
    "    plt.xlabel('number of components')\n",
    "    plt.ylabel('cumulative explained variance')\n",
    "    plt.show()"
   ]
  },
  {
   "cell_type": "code",
   "execution_count": 18,
   "id": "0e8047db",
   "metadata": {},
   "outputs": [
    {
     "data": {
      "image/png": "[encoded data removed]",
      "text/plain": [
       "<Figure size 432x288 with 1 Axes>"
      ]
     },
     "metadata": {
      "needs_background": "light"
     },
     "output_type": "display_data"
    },
    {
     "data": {
      "image/png": "[encoded data removed]",
      "text/plain": [
       "<Figure size 432x288 with 1 Axes>"
      ]
     },
     "metadata": {
      "needs_background": "light"
     },
     "output_type": "display_data"
    },
    {
     "data": {
      "image/png": "[encoded data removed]",
      "text/plain": [
       "<Figure size 432x288 with 1 Axes>"
      ]
     },
     "metadata": {
      "needs_background": "light"
     },
     "output_type": "display_data"
    }
   ],
   "source": [
    "# Plot the cumulative explained variance for each covnet\n",
    "pca_cumsum_plot(vgg16_pca)\n",
    "pca_cumsum_plot(vgg19_pca)\n",
    "pca_cumsum_plot(resnet50_pca)\n"
   ]
  },
  {
   "cell_type": "markdown",
   "id": "119d11bf",
   "metadata": {},
   "source": [
    "Looking at the graph above, we can see that PCA can explain almost all the variance in as many dimensions as there are samples."
   ]
  },
  {
   "cell_type": "code",
   "execution_count": 19,
   "id": "27328d7b",
   "metadata": {},
   "outputs": [],
   "source": [
    "# PCA transformations of covnet outputs\n",
    "vgg16_output_pca = vgg16_pca.transform(vgg16_output)\n",
    "vgg19_output_pca = vgg19_pca.transform(vgg19_output)\n",
    "resnet50_output_pca = resnet50_pca.transform(resnet50_output)\n"
   ]
  },
  {
   "cell_type": "markdown",
   "id": "b6cbb737",
   "metadata": {},
   "source": [
    "# Cluster\n",
    "we wrote a couple of functions that would create and fit KMeans and Gaussian Mixture models. While it can make sense to combine them in one function that returns both, we've seperated them so we can execute them seperately and make some observations without overloading the PC"
   ]
  },
  {
   "cell_type": "code",
   "execution_count": 20,
   "id": "b574b217",
   "metadata": {},
   "outputs": [],
   "source": [
    "def create_train_kmeans(data, number_of_clusters=len(codes)):\n",
    "    # n_jobs is set to -1 to use all available CPU cores. This makes a big difference on an 8-core CPU\n",
    "    # especially when the data size gets much bigger. #perfMatters\n",
    "    \n",
    "    k = KMeans(n_clusters=number_of_clusters, n_jobs=-1, random_state=728)\n",
    "\n",
    "    # Let's do some timings to see how long it takes to train.\n",
    "    start = time.time()\n",
    "\n",
    "    # Train it up\n",
    "    k.fit(data)\n",
    "\n",
    "    # Stop the timing \n",
    "    end = time.time()\n",
    "\n",
    "    # And see how long that took\n",
    "    print(\"Training took {} seconds\".format(end-start))\n",
    "    \n",
    "    return k"
   ]
  },
  {
   "cell_type": "code",
   "execution_count": 21,
   "id": "2818a089",
   "metadata": {},
   "outputs": [],
   "source": [
    "def create_train_gmm(data, number_of_clusters=len(codes)):\n",
    "    g = GaussianMixture(n_components=number_of_clusters, covariance_type=\"full\", random_state=728)\n",
    "    \n",
    "    start=time.time()\n",
    "    g.fit(data)\n",
    "    end=time.time()\n",
    "    \n",
    "    print(\"Training took {} seconds\".format(end-start))\n",
    "    \n",
    "    return g"
   ]
  },
  {
   "cell_type": "code",
   "execution_count": 22,
   "id": "ed841e9f",
   "metadata": {},
   "outputs": [
    {
     "name": "stdout",
     "output_type": "stream",
     "text": [
      "KMeans (PCA): \n",
      "\n",
      "VGG16\n"
     ]
    },
    {
     "name": "stderr",
     "output_type": "stream",
     "text": [
      "C:\\Users\\asahe\\anaconda3\\lib\\site-packages\\sklearn\\cluster\\_kmeans.py:792: FutureWarning: 'n_jobs' was deprecated in version 0.23 and will be removed in 1.0 (renaming of 0.25).\n",
      "  warnings.warn(\"'n_jobs' was deprecated in version 0.23 and will be\"\n"
     ]
    },
    {
     "name": "stdout",
     "output_type": "stream",
     "text": [
      "Training took 0.9768946170806885 seconds\n",
      "\n",
      "VGG19\n"
     ]
    },
    {
     "name": "stderr",
     "output_type": "stream",
     "text": [
      "C:\\Users\\asahe\\anaconda3\\lib\\site-packages\\sklearn\\cluster\\_kmeans.py:792: FutureWarning: 'n_jobs' was deprecated in version 0.23 and will be removed in 1.0 (renaming of 0.25).\n",
      "  warnings.warn(\"'n_jobs' was deprecated in version 0.23 and will be\"\n"
     ]
    },
    {
     "name": "stdout",
     "output_type": "stream",
     "text": [
      "Training took 0.938819408416748 seconds\n",
      "\n",
      "ResNet50\n"
     ]
    },
    {
     "name": "stderr",
     "output_type": "stream",
     "text": [
      "C:\\Users\\asahe\\anaconda3\\lib\\site-packages\\sklearn\\cluster\\_kmeans.py:792: FutureWarning: 'n_jobs' was deprecated in version 0.23 and will be removed in 1.0 (renaming of 0.25).\n",
      "  warnings.warn(\"'n_jobs' was deprecated in version 0.23 and will be\"\n"
     ]
    },
    {
     "name": "stdout",
     "output_type": "stream",
     "text": [
      "Training took 1.005859136581421 seconds\n"
     ]
    }
   ],
   "source": [
    "# Let's pass the data into the algorithm and predict who lies in which cluster. \n",
    "# Since we're using the same data that we trained it on, this should give us the training results.\n",
    "\n",
    "# Here we create and fit a KMeans model with the PCA outputs\n",
    "print(\"KMeans (PCA): \\n\")\n",
    "\n",
    "print(\"VGG16\")\n",
    "K_vgg16_pca = create_train_kmeans(vgg16_output_pca)\n",
    "\n",
    "print(\"\\nVGG19\")\n",
    "K_vgg19_pca = create_train_kmeans(vgg19_output_pca)\n",
    "\n",
    "print(\"\\nResNet50\")\n",
    "K_resnet50_pca = create_train_kmeans(resnet50_output_pca)"
   ]
  },
  {
   "cell_type": "code",
   "execution_count": 23,
   "id": "be34d7ec",
   "metadata": {},
   "outputs": [
    {
     "name": "stdout",
     "output_type": "stream",
     "text": [
      "GMM (PCA): \n",
      "\n",
      "VGG16\n",
      "Training took 4.691680669784546 seconds\n",
      "\n",
      "VGG19\n",
      "Training took 4.689667463302612 seconds\n",
      "\n",
      "ResNet50\n",
      "Training took 4.600181341171265 seconds\n"
     ]
    }
   ],
   "source": [
    "# Same for Gaussian Model\n",
    "print(\"GMM (PCA): \\n\")\n",
    "\n",
    "print(\"VGG16\")\n",
    "G_vgg16_pca = create_train_gmm(vgg16_output_pca)\n",
    "\n",
    "print(\"\\nVGG19\")\n",
    "G_vgg19_pca = create_train_gmm(vgg19_output_pca)\n",
    "\n",
    "print(\"\\nResNet50\")\n",
    "G_resnet50_pca = create_train_gmm(resnet50_output_pca)"
   ]
  },
  {
   "cell_type": "code",
   "execution_count": 24,
   "id": "df89a2c4",
   "metadata": {},
   "outputs": [
    {
     "name": "stdout",
     "output_type": "stream",
     "text": [
      "KMeans: \n",
      "\n",
      "VGG16:\n"
     ]
    },
    {
     "name": "stderr",
     "output_type": "stream",
     "text": [
      "C:\\Users\\asahe\\anaconda3\\lib\\site-packages\\sklearn\\cluster\\_kmeans.py:792: FutureWarning: 'n_jobs' was deprecated in version 0.23 and will be removed in 1.0 (renaming of 0.25).\n",
      "  warnings.warn(\"'n_jobs' was deprecated in version 0.23 and will be\"\n"
     ]
    },
    {
     "name": "stdout",
     "output_type": "stream",
     "text": [
      "Training took 10.79707407951355 seconds\n",
      "\n",
      "VGG19:\n"
     ]
    },
    {
     "name": "stderr",
     "output_type": "stream",
     "text": [
      "C:\\Users\\asahe\\anaconda3\\lib\\site-packages\\sklearn\\cluster\\_kmeans.py:792: FutureWarning: 'n_jobs' was deprecated in version 0.23 and will be removed in 1.0 (renaming of 0.25).\n",
      "  warnings.warn(\"'n_jobs' was deprecated in version 0.23 and will be\"\n"
     ]
    },
    {
     "name": "stdout",
     "output_type": "stream",
     "text": [
      "Training took 10.779236078262329 seconds\n",
      "\n",
      "ResNet50:\n"
     ]
    },
    {
     "name": "stderr",
     "output_type": "stream",
     "text": [
      "C:\\Users\\asahe\\anaconda3\\lib\\site-packages\\sklearn\\cluster\\_kmeans.py:792: FutureWarning: 'n_jobs' was deprecated in version 0.23 and will be removed in 1.0 (renaming of 0.25).\n",
      "  warnings.warn(\"'n_jobs' was deprecated in version 0.23 and will be\"\n"
     ]
    },
    {
     "name": "stdout",
     "output_type": "stream",
     "text": [
      "Training took 46.19611120223999 seconds\n"
     ]
    }
   ],
   "source": [
    "# Let's also create models for the covnet outputs without PCA for comparison\n",
    "print(\"KMeans: \\n\")\n",
    "\n",
    "print(\"VGG16:\")\n",
    "K_vgg16 = create_train_kmeans(vgg16_output)\n",
    "\n",
    "print(\"\\nVGG19:\")\n",
    "K_vgg19 = create_train_kmeans(vgg19_output)\n",
    "\n",
    "print(\"\\nResNet50:\")\n",
    "K_resnet50 = create_train_kmeans(resnet50_output)"
   ]
  },
  {
   "cell_type": "markdown",
   "id": "50b8a990",
   "metadata": {},
   "source": [
    "#### Attempts to run the Gaussian Mixtue Model on the outputs without PCA always give an out of memory error. Therefore we're unable to test these and conclude that they are impractical to use."
   ]
  },
  {
   "cell_type": "code",
   "execution_count": 25,
   "id": "c936cc99",
   "metadata": {},
   "outputs": [],
   "source": [
    "# Now we get the custer model predictions\n",
    "\n",
    "# KMeans with PCA outputs\n",
    "k_vgg16_pred_pca = K_vgg16_pca.predict(vgg16_output_pca)\n",
    "k_vgg19_pred_pca = K_vgg19_pca.predict(vgg19_output_pca)\n",
    "k_resnet50_pred_pca = K_resnet50_pca.predict(resnet50_output_pca)\n",
    "\n",
    "# KMeans with CovNet outputs\n",
    "k_vgg16_pred = K_vgg16.predict(vgg16_output)\n",
    "k_vgg19_pred = K_vgg19.predict(vgg19_output)\n",
    "k_resnet50_pred = K_resnet50.predict(resnet50_output)\n",
    "\n",
    "# Gaussian Mixture with PCA outputs\n",
    "g_vgg16_pred_pca = G_vgg16_pca.predict(vgg16_output_pca)\n",
    "g_vgg19_pred_pca = G_vgg19_pca.predict(vgg19_output_pca)\n",
    "g_resnet50_pred_pca = G_resnet50_pca.predict(resnet50_output_pca)"
   ]
  },
  {
   "cell_type": "markdown",
   "id": "08eee37a",
   "metadata": {},
   "source": [
    "Remember that the clustering algorithm does not detect which images are A's and which are B's and so on, it only groups images that look alike together and assigns them a number arbitrarily.\n",
    "\n",
    "We now need to count how many of each label are in each cluster, this way we can take a look and if sufficient eperation has happened we can quicly see which cluster is which label. So let's write a function that does that."
   ]
  },
  {
   "cell_type": "code",
   "execution_count": 26,
   "id": "fd62112d",
   "metadata": {},
   "outputs": [],
   "source": [
    "def cluster_label_count(clusters, labels):\n",
    "    \n",
    "    count = {}\n",
    "    \n",
    "    # Get unique clusters and labels\n",
    "    unique_clusters = list(set(clusters))\n",
    "    unique_labels = list(set(labels))\n",
    "    \n",
    "    # Create counter for each cluster/label combination and set it to 0\n",
    "    for cluster in unique_clusters:\n",
    "        count[cluster] = {}\n",
    "        \n",
    "        for label in unique_labels:\n",
    "            count[cluster][label] = 0\n",
    "    \n",
    "    # Let's count\n",
    "    for i in range(len(clusters)):\n",
    "        count[clusters[i]][labels[i]] +=1\n",
    "    \n",
    "    cluster_df = pd.DataFrame(count)\n",
    "    \n",
    "    return cluster_df"
   ]
  },
  {
   "cell_type": "code",
   "execution_count": 27,
   "id": "d36d0cc9",
   "metadata": {},
   "outputs": [],
   "source": [
    "# Cluster counting for VGG16 Means\n",
    "vgg16_cluster_count = cluster_label_count(k_vgg16_pred, y_train)\n",
    "vgg16_cluster_count_pca = cluster_label_count(k_vgg16_pred_pca, y_train)\n",
    "\n",
    "# VGG19 KMeans\n",
    "vgg19_cluster_count = cluster_label_count(k_vgg19_pred, y_train)\n",
    "vgg19_cluster_count_pca = cluster_label_count(k_vgg19_pred_pca, y_train)\n",
    "\n",
    "# ResNet50 KMeans\n",
    "resnet_cluster_count = cluster_label_count(k_resnet50_pred, y_train)\n",
    "resnet_cluster_count_pca = cluster_label_count(k_resnet50_pred_pca, y_train)\n",
    "\n",
    "# GMM\n",
    "g_vgg16_cluster_count_pca = cluster_label_count(g_vgg16_pred_pca, y_train)\n",
    "g_vgg19_cluster_count_pca = cluster_label_count(g_vgg19_pred_pca, y_train)\n",
    "g_resnet50_cluster_count_pca = cluster_label_count(g_resnet50_pred_pca, y_train)"
   ]
  },
  {
   "cell_type": "code",
   "execution_count": 28,
   "id": "582a95bd",
   "metadata": {},
   "outputs": [
    {
     "name": "stdout",
     "output_type": "stream",
     "text": [
      "KMeans VGG16: \n"
     ]
    },
    {
     "data": {
      "text/html": [
       "<div>\n",
       "<style scoped>\n",
       "    .dataframe tbody tr th:only-of-type {\n",
       "        vertical-align: middle;\n",
       "    }\n",
       "\n",
       "    .dataframe tbody tr th {\n",
       "        vertical-align: top;\n",
       "    }\n",
       "\n",
       "    .dataframe thead th {\n",
       "        text-align: right;\n",
       "    }\n",
       "</style>\n",
       "<table border=\"1\" class=\"dataframe\">\n",
       "  <thead>\n",
       "    <tr style=\"text-align: right;\">\n",
       "      <th></th>\n",
       "      <th>0</th>\n",
       "      <th>1</th>\n",
       "      <th>2</th>\n",
       "      <th>3</th>\n",
       "    </tr>\n",
       "  </thead>\n",
       "  <tbody>\n",
       "    <tr>\n",
       "      <th>A</th>\n",
       "      <td>0</td>\n",
       "      <td>399</td>\n",
       "      <td>0</td>\n",
       "      <td>0</td>\n",
       "    </tr>\n",
       "    <tr>\n",
       "      <th>B</th>\n",
       "      <td>390</td>\n",
       "      <td>7</td>\n",
       "      <td>0</td>\n",
       "      <td>0</td>\n",
       "    </tr>\n",
       "    <tr>\n",
       "      <th>C</th>\n",
       "      <td>0</td>\n",
       "      <td>0</td>\n",
       "      <td>210</td>\n",
       "      <td>198</td>\n",
       "    </tr>\n",
       "    <tr>\n",
       "      <th>D</th>\n",
       "      <td>0</td>\n",
       "      <td>396</td>\n",
       "      <td>0</td>\n",
       "      <td>0</td>\n",
       "    </tr>\n",
       "  </tbody>\n",
       "</table>\n",
       "</div>"
      ],
      "text/plain": [
       "     0    1    2    3\n",
       "A    0  399    0    0\n",
       "B  390    7    0    0\n",
       "C    0    0  210  198\n",
       "D    0  396    0    0"
      ]
     },
     "execution_count": 28,
     "metadata": {},
     "output_type": "execute_result"
    }
   ],
   "source": [
    "print(\"KMeans VGG16: \")\n",
    "vgg16_cluster_count"
   ]
  },
  {
   "cell_type": "code",
   "execution_count": 29,
   "id": "df2b7bcb",
   "metadata": {},
   "outputs": [
    {
     "name": "stdout",
     "output_type": "stream",
     "text": [
      "KMeans VGG16 (PCA): \n"
     ]
    },
    {
     "data": {
      "text/html": [
       "<div>\n",
       "<style scoped>\n",
       "    .dataframe tbody tr th:only-of-type {\n",
       "        vertical-align: middle;\n",
       "    }\n",
       "\n",
       "    .dataframe tbody tr th {\n",
       "        vertical-align: top;\n",
       "    }\n",
       "\n",
       "    .dataframe thead th {\n",
       "        text-align: right;\n",
       "    }\n",
       "</style>\n",
       "<table border=\"1\" class=\"dataframe\">\n",
       "  <thead>\n",
       "    <tr style=\"text-align: right;\">\n",
       "      <th></th>\n",
       "      <th>0</th>\n",
       "      <th>1</th>\n",
       "      <th>2</th>\n",
       "      <th>3</th>\n",
       "    </tr>\n",
       "  </thead>\n",
       "  <tbody>\n",
       "    <tr>\n",
       "      <th>A</th>\n",
       "      <td>0</td>\n",
       "      <td>399</td>\n",
       "      <td>0</td>\n",
       "      <td>0</td>\n",
       "    </tr>\n",
       "    <tr>\n",
       "      <th>B</th>\n",
       "      <td>390</td>\n",
       "      <td>7</td>\n",
       "      <td>0</td>\n",
       "      <td>0</td>\n",
       "    </tr>\n",
       "    <tr>\n",
       "      <th>C</th>\n",
       "      <td>0</td>\n",
       "      <td>0</td>\n",
       "      <td>210</td>\n",
       "      <td>198</td>\n",
       "    </tr>\n",
       "    <tr>\n",
       "      <th>D</th>\n",
       "      <td>0</td>\n",
       "      <td>396</td>\n",
       "      <td>0</td>\n",
       "      <td>0</td>\n",
       "    </tr>\n",
       "  </tbody>\n",
       "</table>\n",
       "</div>"
      ],
      "text/plain": [
       "     0    1    2    3\n",
       "A    0  399    0    0\n",
       "B  390    7    0    0\n",
       "C    0    0  210  198\n",
       "D    0  396    0    0"
      ]
     },
     "execution_count": 29,
     "metadata": {},
     "output_type": "execute_result"
    }
   ],
   "source": [
    "print(\"KMeans VGG16 (PCA): \")\n",
    "vgg16_cluster_count_pca"
   ]
  },
  {
   "cell_type": "code",
   "execution_count": 30,
   "id": "f4a13e25",
   "metadata": {},
   "outputs": [
    {
     "name": "stdout",
     "output_type": "stream",
     "text": [
      "GMM VGG16: \n"
     ]
    },
    {
     "data": {
      "text/html": [
       "<div>\n",
       "<style scoped>\n",
       "    .dataframe tbody tr th:only-of-type {\n",
       "        vertical-align: middle;\n",
       "    }\n",
       "\n",
       "    .dataframe tbody tr th {\n",
       "        vertical-align: top;\n",
       "    }\n",
       "\n",
       "    .dataframe thead th {\n",
       "        text-align: right;\n",
       "    }\n",
       "</style>\n",
       "<table border=\"1\" class=\"dataframe\">\n",
       "  <thead>\n",
       "    <tr style=\"text-align: right;\">\n",
       "      <th></th>\n",
       "      <th>0</th>\n",
       "      <th>1</th>\n",
       "      <th>2</th>\n",
       "      <th>3</th>\n",
       "    </tr>\n",
       "  </thead>\n",
       "  <tbody>\n",
       "    <tr>\n",
       "      <th>A</th>\n",
       "      <td>399</td>\n",
       "      <td>0</td>\n",
       "      <td>0</td>\n",
       "      <td>0</td>\n",
       "    </tr>\n",
       "    <tr>\n",
       "      <th>B</th>\n",
       "      <td>7</td>\n",
       "      <td>390</td>\n",
       "      <td>0</td>\n",
       "      <td>0</td>\n",
       "    </tr>\n",
       "    <tr>\n",
       "      <th>C</th>\n",
       "      <td>0</td>\n",
       "      <td>0</td>\n",
       "      <td>198</td>\n",
       "      <td>210</td>\n",
       "    </tr>\n",
       "    <tr>\n",
       "      <th>D</th>\n",
       "      <td>0</td>\n",
       "      <td>396</td>\n",
       "      <td>0</td>\n",
       "      <td>0</td>\n",
       "    </tr>\n",
       "  </tbody>\n",
       "</table>\n",
       "</div>"
      ],
      "text/plain": [
       "     0    1    2    3\n",
       "A  399    0    0    0\n",
       "B    7  390    0    0\n",
       "C    0    0  198  210\n",
       "D    0  396    0    0"
      ]
     },
     "execution_count": 30,
     "metadata": {},
     "output_type": "execute_result"
    }
   ],
   "source": [
    "print(\"GMM VGG16: \")\n",
    "g_vgg16_cluster_count_pca"
   ]
  },
  {
   "cell_type": "code",
   "execution_count": 31,
   "id": "1db07279",
   "metadata": {},
   "outputs": [
    {
     "name": "stdout",
     "output_type": "stream",
     "text": [
      "KMeans VGG19: \n"
     ]
    },
    {
     "data": {
      "text/html": [
       "<div>\n",
       "<style scoped>\n",
       "    .dataframe tbody tr th:only-of-type {\n",
       "        vertical-align: middle;\n",
       "    }\n",
       "\n",
       "    .dataframe tbody tr th {\n",
       "        vertical-align: top;\n",
       "    }\n",
       "\n",
       "    .dataframe thead th {\n",
       "        text-align: right;\n",
       "    }\n",
       "</style>\n",
       "<table border=\"1\" class=\"dataframe\">\n",
       "  <thead>\n",
       "    <tr style=\"text-align: right;\">\n",
       "      <th></th>\n",
       "      <th>0</th>\n",
       "      <th>1</th>\n",
       "      <th>2</th>\n",
       "      <th>3</th>\n",
       "    </tr>\n",
       "  </thead>\n",
       "  <tbody>\n",
       "    <tr>\n",
       "      <th>A</th>\n",
       "      <td>0</td>\n",
       "      <td>399</td>\n",
       "      <td>0</td>\n",
       "      <td>0</td>\n",
       "    </tr>\n",
       "    <tr>\n",
       "      <th>B</th>\n",
       "      <td>390</td>\n",
       "      <td>7</td>\n",
       "      <td>0</td>\n",
       "      <td>0</td>\n",
       "    </tr>\n",
       "    <tr>\n",
       "      <th>C</th>\n",
       "      <td>0</td>\n",
       "      <td>0</td>\n",
       "      <td>210</td>\n",
       "      <td>198</td>\n",
       "    </tr>\n",
       "    <tr>\n",
       "      <th>D</th>\n",
       "      <td>0</td>\n",
       "      <td>396</td>\n",
       "      <td>0</td>\n",
       "      <td>0</td>\n",
       "    </tr>\n",
       "  </tbody>\n",
       "</table>\n",
       "</div>"
      ],
      "text/plain": [
       "     0    1    2    3\n",
       "A    0  399    0    0\n",
       "B  390    7    0    0\n",
       "C    0    0  210  198\n",
       "D    0  396    0    0"
      ]
     },
     "execution_count": 31,
     "metadata": {},
     "output_type": "execute_result"
    }
   ],
   "source": [
    "print(\"KMeans VGG19: \")\n",
    "vgg19_cluster_count"
   ]
  },
  {
   "cell_type": "code",
   "execution_count": 32,
   "id": "19dfe468",
   "metadata": {},
   "outputs": [
    {
     "name": "stdout",
     "output_type": "stream",
     "text": [
      "KMeans VGG19 (PCA): \n"
     ]
    },
    {
     "data": {
      "text/html": [
       "<div>\n",
       "<style scoped>\n",
       "    .dataframe tbody tr th:only-of-type {\n",
       "        vertical-align: middle;\n",
       "    }\n",
       "\n",
       "    .dataframe tbody tr th {\n",
       "        vertical-align: top;\n",
       "    }\n",
       "\n",
       "    .dataframe thead th {\n",
       "        text-align: right;\n",
       "    }\n",
       "</style>\n",
       "<table border=\"1\" class=\"dataframe\">\n",
       "  <thead>\n",
       "    <tr style=\"text-align: right;\">\n",
       "      <th></th>\n",
       "      <th>0</th>\n",
       "      <th>1</th>\n",
       "      <th>2</th>\n",
       "      <th>3</th>\n",
       "    </tr>\n",
       "  </thead>\n",
       "  <tbody>\n",
       "    <tr>\n",
       "      <th>A</th>\n",
       "      <td>0</td>\n",
       "      <td>399</td>\n",
       "      <td>0</td>\n",
       "      <td>0</td>\n",
       "    </tr>\n",
       "    <tr>\n",
       "      <th>B</th>\n",
       "      <td>390</td>\n",
       "      <td>7</td>\n",
       "      <td>0</td>\n",
       "      <td>0</td>\n",
       "    </tr>\n",
       "    <tr>\n",
       "      <th>C</th>\n",
       "      <td>0</td>\n",
       "      <td>0</td>\n",
       "      <td>210</td>\n",
       "      <td>198</td>\n",
       "    </tr>\n",
       "    <tr>\n",
       "      <th>D</th>\n",
       "      <td>0</td>\n",
       "      <td>396</td>\n",
       "      <td>0</td>\n",
       "      <td>0</td>\n",
       "    </tr>\n",
       "  </tbody>\n",
       "</table>\n",
       "</div>"
      ],
      "text/plain": [
       "     0    1    2    3\n",
       "A    0  399    0    0\n",
       "B  390    7    0    0\n",
       "C    0    0  210  198\n",
       "D    0  396    0    0"
      ]
     },
     "execution_count": 32,
     "metadata": {},
     "output_type": "execute_result"
    }
   ],
   "source": [
    "print(\"KMeans VGG19 (PCA): \")\n",
    "vgg19_cluster_count_pca"
   ]
  },
  {
   "cell_type": "code",
   "execution_count": 33,
   "id": "014c137c",
   "metadata": {},
   "outputs": [
    {
     "name": "stdout",
     "output_type": "stream",
     "text": [
      "GMM VGG19 (PCA): \n"
     ]
    },
    {
     "data": {
      "text/html": [
       "<div>\n",
       "<style scoped>\n",
       "    .dataframe tbody tr th:only-of-type {\n",
       "        vertical-align: middle;\n",
       "    }\n",
       "\n",
       "    .dataframe tbody tr th {\n",
       "        vertical-align: top;\n",
       "    }\n",
       "\n",
       "    .dataframe thead th {\n",
       "        text-align: right;\n",
       "    }\n",
       "</style>\n",
       "<table border=\"1\" class=\"dataframe\">\n",
       "  <thead>\n",
       "    <tr style=\"text-align: right;\">\n",
       "      <th></th>\n",
       "      <th>0</th>\n",
       "      <th>1</th>\n",
       "      <th>2</th>\n",
       "      <th>3</th>\n",
       "    </tr>\n",
       "  </thead>\n",
       "  <tbody>\n",
       "    <tr>\n",
       "      <th>A</th>\n",
       "      <td>399</td>\n",
       "      <td>0</td>\n",
       "      <td>0</td>\n",
       "      <td>0</td>\n",
       "    </tr>\n",
       "    <tr>\n",
       "      <th>B</th>\n",
       "      <td>7</td>\n",
       "      <td>390</td>\n",
       "      <td>0</td>\n",
       "      <td>0</td>\n",
       "    </tr>\n",
       "    <tr>\n",
       "      <th>C</th>\n",
       "      <td>0</td>\n",
       "      <td>0</td>\n",
       "      <td>198</td>\n",
       "      <td>210</td>\n",
       "    </tr>\n",
       "    <tr>\n",
       "      <th>D</th>\n",
       "      <td>0</td>\n",
       "      <td>0</td>\n",
       "      <td>396</td>\n",
       "      <td>0</td>\n",
       "    </tr>\n",
       "  </tbody>\n",
       "</table>\n",
       "</div>"
      ],
      "text/plain": [
       "     0    1    2    3\n",
       "A  399    0    0    0\n",
       "B    7  390    0    0\n",
       "C    0    0  198  210\n",
       "D    0    0  396    0"
      ]
     },
     "execution_count": 33,
     "metadata": {},
     "output_type": "execute_result"
    }
   ],
   "source": [
    "print(\"GMM VGG19 (PCA): \")\n",
    "g_vgg19_cluster_count_pca"
   ]
  },
  {
   "cell_type": "code",
   "execution_count": 34,
   "id": "16362c48",
   "metadata": {},
   "outputs": [
    {
     "name": "stdout",
     "output_type": "stream",
     "text": [
      "KMeans Resnet50: \n"
     ]
    },
    {
     "data": {
      "text/html": [
       "<div>\n",
       "<style scoped>\n",
       "    .dataframe tbody tr th:only-of-type {\n",
       "        vertical-align: middle;\n",
       "    }\n",
       "\n",
       "    .dataframe tbody tr th {\n",
       "        vertical-align: top;\n",
       "    }\n",
       "\n",
       "    .dataframe thead th {\n",
       "        text-align: right;\n",
       "    }\n",
       "</style>\n",
       "<table border=\"1\" class=\"dataframe\">\n",
       "  <thead>\n",
       "    <tr style=\"text-align: right;\">\n",
       "      <th></th>\n",
       "      <th>0</th>\n",
       "      <th>1</th>\n",
       "      <th>2</th>\n",
       "      <th>3</th>\n",
       "    </tr>\n",
       "  </thead>\n",
       "  <tbody>\n",
       "    <tr>\n",
       "      <th>A</th>\n",
       "      <td>0</td>\n",
       "      <td>221</td>\n",
       "      <td>0</td>\n",
       "      <td>178</td>\n",
       "    </tr>\n",
       "    <tr>\n",
       "      <th>B</th>\n",
       "      <td>0</td>\n",
       "      <td>194</td>\n",
       "      <td>0</td>\n",
       "      <td>203</td>\n",
       "    </tr>\n",
       "    <tr>\n",
       "      <th>C</th>\n",
       "      <td>198</td>\n",
       "      <td>0</td>\n",
       "      <td>210</td>\n",
       "      <td>0</td>\n",
       "    </tr>\n",
       "    <tr>\n",
       "      <th>D</th>\n",
       "      <td>0</td>\n",
       "      <td>193</td>\n",
       "      <td>0</td>\n",
       "      <td>203</td>\n",
       "    </tr>\n",
       "  </tbody>\n",
       "</table>\n",
       "</div>"
      ],
      "text/plain": [
       "     0    1    2    3\n",
       "A    0  221    0  178\n",
       "B    0  194    0  203\n",
       "C  198    0  210    0\n",
       "D    0  193    0  203"
      ]
     },
     "execution_count": 34,
     "metadata": {},
     "output_type": "execute_result"
    }
   ],
   "source": [
    "print(\"KMeans Resnet50: \")\n",
    "resnet_cluster_count"
   ]
  },
  {
   "cell_type": "code",
   "execution_count": 35,
   "id": "e811c9d8",
   "metadata": {},
   "outputs": [
    {
     "name": "stdout",
     "output_type": "stream",
     "text": [
      "Kmeans Resnet50 (PCA): \n"
     ]
    },
    {
     "data": {
      "text/html": [
       "<div>\n",
       "<style scoped>\n",
       "    .dataframe tbody tr th:only-of-type {\n",
       "        vertical-align: middle;\n",
       "    }\n",
       "\n",
       "    .dataframe tbody tr th {\n",
       "        vertical-align: top;\n",
       "    }\n",
       "\n",
       "    .dataframe thead th {\n",
       "        text-align: right;\n",
       "    }\n",
       "</style>\n",
       "<table border=\"1\" class=\"dataframe\">\n",
       "  <thead>\n",
       "    <tr style=\"text-align: right;\">\n",
       "      <th></th>\n",
       "      <th>0</th>\n",
       "      <th>1</th>\n",
       "      <th>2</th>\n",
       "      <th>3</th>\n",
       "    </tr>\n",
       "  </thead>\n",
       "  <tbody>\n",
       "    <tr>\n",
       "      <th>A</th>\n",
       "      <td>221</td>\n",
       "      <td>0</td>\n",
       "      <td>0</td>\n",
       "      <td>178</td>\n",
       "    </tr>\n",
       "    <tr>\n",
       "      <th>B</th>\n",
       "      <td>194</td>\n",
       "      <td>0</td>\n",
       "      <td>0</td>\n",
       "      <td>203</td>\n",
       "    </tr>\n",
       "    <tr>\n",
       "      <th>C</th>\n",
       "      <td>0</td>\n",
       "      <td>210</td>\n",
       "      <td>198</td>\n",
       "      <td>0</td>\n",
       "    </tr>\n",
       "    <tr>\n",
       "      <th>D</th>\n",
       "      <td>193</td>\n",
       "      <td>0</td>\n",
       "      <td>0</td>\n",
       "      <td>203</td>\n",
       "    </tr>\n",
       "  </tbody>\n",
       "</table>\n",
       "</div>"
      ],
      "text/plain": [
       "     0    1    2    3\n",
       "A  221    0    0  178\n",
       "B  194    0    0  203\n",
       "C    0  210  198    0\n",
       "D  193    0    0  203"
      ]
     },
     "execution_count": 35,
     "metadata": {},
     "output_type": "execute_result"
    }
   ],
   "source": [
    "print(\"Kmeans Resnet50 (PCA): \")\n",
    "resnet_cluster_count_pca"
   ]
  },
  {
   "cell_type": "code",
   "execution_count": 36,
   "id": "3eb62d8e",
   "metadata": {
    "scrolled": true
   },
   "outputs": [
    {
     "name": "stdout",
     "output_type": "stream",
     "text": [
      "GMM Resnet50 (PCA): \n"
     ]
    },
    {
     "data": {
      "text/html": [
       "<div>\n",
       "<style scoped>\n",
       "    .dataframe tbody tr th:only-of-type {\n",
       "        vertical-align: middle;\n",
       "    }\n",
       "\n",
       "    .dataframe tbody tr th {\n",
       "        vertical-align: top;\n",
       "    }\n",
       "\n",
       "    .dataframe thead th {\n",
       "        text-align: right;\n",
       "    }\n",
       "</style>\n",
       "<table border=\"1\" class=\"dataframe\">\n",
       "  <thead>\n",
       "    <tr style=\"text-align: right;\">\n",
       "      <th></th>\n",
       "      <th>0</th>\n",
       "      <th>1</th>\n",
       "      <th>2</th>\n",
       "      <th>3</th>\n",
       "    </tr>\n",
       "  </thead>\n",
       "  <tbody>\n",
       "    <tr>\n",
       "      <th>A</th>\n",
       "      <td>214</td>\n",
       "      <td>0</td>\n",
       "      <td>185</td>\n",
       "      <td>0</td>\n",
       "    </tr>\n",
       "    <tr>\n",
       "      <th>B</th>\n",
       "      <td>0</td>\n",
       "      <td>0</td>\n",
       "      <td>397</td>\n",
       "      <td>0</td>\n",
       "    </tr>\n",
       "    <tr>\n",
       "      <th>C</th>\n",
       "      <td>0</td>\n",
       "      <td>210</td>\n",
       "      <td>0</td>\n",
       "      <td>198</td>\n",
       "    </tr>\n",
       "    <tr>\n",
       "      <th>D</th>\n",
       "      <td>0</td>\n",
       "      <td>0</td>\n",
       "      <td>396</td>\n",
       "      <td>0</td>\n",
       "    </tr>\n",
       "  </tbody>\n",
       "</table>\n",
       "</div>"
      ],
      "text/plain": [
       "     0    1    2    3\n",
       "A  214    0  185    0\n",
       "B    0    0  397    0\n",
       "C    0  210    0  198\n",
       "D    0    0  396    0"
      ]
     },
     "execution_count": 36,
     "metadata": {},
     "output_type": "execute_result"
    }
   ],
   "source": [
    "print(\"GMM Resnet50 (PCA): \")\n",
    "g_resnet50_cluster_count_pca"
   ]
  },
  {
   "cell_type": "markdown",
   "id": "60b463b5",
   "metadata": {},
   "source": [
    "We can see again, that models which took ResNet50 representations could not produce meaningful clusters. We will therefore stop pursuing them.\n",
    "\n",
    "The models that made it through are:\n",
    "\n",
    "1. KMeans VGG16\n",
    "\n",
    "2. KMeans VGG16 PCA\n",
    "\n",
    "3. KMeans VGG19\n",
    "\n",
    "4. KMeans VGG19 PCA\n",
    "\n",
    "we will continue calculating some scores and see which performs best."
   ]
  },
  {
   "cell_type": "markdown",
   "id": "6f34f34a",
   "metadata": {},
   "source": [
    "## Cluster - Label assignment\n",
    " In this part, we will manually look at the cluster count and give a best guess as to which cluster corresonds to which label. While normally each cluster will mostly consist of one label, it is not necessary the case if the clustering algorithm fails to seperate the images. It is therefore better to take stock here, and make sure that we are on the right path."
   ]
  },
  {
   "cell_type": "code",
   "execution_count": 37,
   "id": "89a9b6ab",
   "metadata": {},
   "outputs": [],
   "source": [
    "# Manually adjust these lists so that the index of each label reflects which cluster it lies in\n",
    "vgg16_cluster_code =  [\"B\", \"A\", \"C\", \"D\"]\n",
    "vgg16_cluster_code_pca =  [\"B\", \"A\", \"C\", \"D\"]\n",
    "\n",
    "vgg19_cluster_code =  [\"B\", \"A\", \"C\", \"D\"]\n",
    "vgg19_cluster_code_pca = [\"B\", \"A\", \"C\", \"D\"]\n"
   ]
  },
  {
   "cell_type": "markdown",
   "id": "f3e0da7e",
   "metadata": {},
   "source": [
    "### Replace the predicted clusters with their labels\n"
   ]
  },
  {
   "cell_type": "code",
   "execution_count": 38,
   "id": "0b5fbf0d",
   "metadata": {},
   "outputs": [],
   "source": [
    "vgg16_pred_codes = [vgg16_cluster_code[x] for x in k_vgg16_pred]\n",
    "vgg16_pred_codes_pca = [vgg16_cluster_code_pca[x] for x in k_vgg16_pred_pca]\n",
    "vgg19_pred_codes = [vgg19_cluster_code[x] for x in k_vgg19_pred]\n",
    "vgg19_pred_codes_pca = [vgg19_cluster_code_pca[x] for x in k_vgg19_pred_pca]"
   ]
  },
  {
   "cell_type": "markdown",
   "id": "8ff62b87",
   "metadata": {},
   "source": [
    "## metrics\n",
    "Now that we have two arrays, one with the predicted labels and one with the true labels, we can go crazy with performance scores... or we can just compute the F1 score.\n"
   ]
  },
  {
   "cell_type": "code",
   "execution_count": 39,
   "id": "1f33b655",
   "metadata": {},
   "outputs": [
    {
     "name": "stdout",
     "output_type": "stream",
     "text": [
      "KMeans VGG16: \n",
      "\tF1 Score: 0.58379085   |   Accuracy: 0.58379085\n",
      "KMeans VGG16 (PCA) \n",
      "\tF1 Score: 0.16611157   |   Accuracy: 0.16611157\n",
      "\n",
      "KMeans VGG19:  \n",
      "\tF1 Score: 0.58379085   |   Accuracy: 0.58379085\n",
      "KMeans VGG19 (PCA):  \n",
      "\tF1 Score: 0.58379085   |   Accuracy: 0.58379085\n"
     ]
    }
   ],
   "source": [
    "from sklearn.metrics import accuracy_score, f1_score\n",
    "\n",
    "def print_scores(true, pred):\n",
    "    acc = accuracy_score(true, pred)\n",
    "    f1 = f1_score(true, pred, average=\"macro\")\n",
    "    return \"\\n\\tF1 Score: {0:0.8f}   |   Accuracy: {0:0.8f}\".format(f1,acc)\n",
    "\n",
    "print(\"KMeans VGG16:\", print_scores(y_train, vgg16_pred_codes))\n",
    "print(\"KMeans VGG16 (PCA)\", print_scores(y_train, vgg16_pred_codes_pca))\n",
    "\n",
    "print(\"\\nKMeans VGG19: \", print_scores(y_train, vgg19_pred_codes))\n",
    "print(\"KMeans VGG19 (PCA): \", print_scores(y_train, vgg19_pred_codes_pca))"
   ]
  },
  {
   "cell_type": "markdown",
   "id": "db6f64d3",
   "metadata": {},
   "source": [
    "### of note:\n",
    "\n",
    "The scores (and cluster counts) of PCA and non-PCA transformed outputs are exactly the same. Since we fixed all random states, with the only difference being the inputs, we can see that PCA-transformed data adequately represents the original data while givig us faster training times and lower memory usage.\n",
    "\n",
    "\n",
    "The clusters for PCA and non-PCA transformed data are exactly in the same order."
   ]
  },
  {
   "cell_type": "markdown",
   "id": "e37a7d98",
   "metadata": {},
   "source": [
    "### Testing Time\n",
    "Ultimately, for best results, you would want to do this whole excercise every time you change your data in order to find out which model is the best for this particular data.\n",
    "\n",
    "We can now then do the same thing for our testing data, and see if it gives the best accuracy again. We can keep testing this for more and more breed pairs to gain more confidence that our model works.\n",
    "\n",
    "This is in the end an unsupevised learning excercise, and we would not be able to check which model is best for a particular set of data if we do not have labels for them. The closer your images are to the dataset images, the better chance you have of getting a high accuracy."
   ]
  },
  {
   "cell_type": "code",
   "execution_count": 40,
   "id": "fe2f4d3c",
   "metadata": {},
   "outputs": [],
   "source": [
    "# Let's put it all together\n",
    "\n",
    "def all_covnet_transform(data):\n",
    "    vgg16 = covnet_transform(vgg16_model, data)\n",
    "    vgg19 = covnet_transform(vgg19_model, data)\n",
    "    resnet50 = covnet_transform(resnet50_model, data)\n",
    "    \n",
    "    return vgg16, vgg19, resnet50\n",
    "\n",
    "\n",
    "def image_load_to_cluster_count(codes):\n",
    "    # Load images\n",
    "    images, labels = load_images(codes)\n",
    "    print(len(images), len(labels))\n",
    "    show_random_images(images, labels)\n",
    "    \n",
    "    # Normalise images\n",
    "    images, labels = normalise_images(images, labels)\n",
    "    \n",
    "    # Split data\n",
    "    data, labels = shuffle_data(images, labels)\n",
    "    \n",
    "    # Get covnet outputs\n",
    "    vgg16_output, vgg19_output, resnet50_output = all_covnet_transform(data)\n",
    "    \n",
    "    # Get PCA transformations\n",
    "    vgg16_output_pca = create_fit_PCA(vgg16_output).transform(vgg16_output)\n",
    "    vgg19_output_pca = create_fit_PCA(vgg19_output).transform(vgg19_output)\n",
    "    resnet50_output_pca = create_fit_PCA(resnet50_output).transform(resnet50_output)\n",
    "    \n",
    "    # Cluster\n",
    "    clusters = len(codes)\n",
    "    \n",
    "    K_vgg16_pred = create_train_kmeans(vgg16_output, clusters).predict(vgg16_output)\n",
    "    K_vgg19_pred = create_train_kmeans(vgg19_output, clusters).predict(vgg19_output)\n",
    "    K_resnet50_pred = create_train_kmeans(resnet50_output, clusters).predict(resnet50_output)\n",
    "    K_vgg16_pred_pca = create_train_kmeans(vgg16_output_pca, clusters).predict(vgg16_output_pca)\n",
    "    K_vgg19_pred_pca = create_train_kmeans(vgg19_output_pca, clusters).predict(vgg19_output_pca)\n",
    "    K_resnet50_pred_pca = create_train_kmeans(resnet50_output_pca, clusters).predict(resnet50_output_pca)\n",
    "    G_vgg16_pred_pca = create_train_gmm(vgg16_output_pca, clusters).predict(vgg16_output_pca)\n",
    "    G_vgg19_pred_pca = create_train_gmm(vgg19_output_pca, clusters).predict(vgg19_output_pca)\n",
    "    G_resnet50_pred_pca = create_train_gmm(resnet50_output_pca, clusters).predict(resnet50_output_pca)\n",
    "    \n",
    "    # Count\n",
    "    vgg16_cluster_count = cluster_label_count(K_vgg16_pred, labels)\n",
    "    vgg16_cluster_count_pca = cluster_label_count(K_vgg16_pred_pca, labels)\n",
    "\n",
    "    # VGG19 KMeans\n",
    "    vgg19_cluster_count = cluster_label_count(K_vgg19_pred, labels)\n",
    "    vgg19_cluster_count_pca = cluster_label_count(K_vgg19_pred_pca, labels)\n",
    "\n",
    "    # ResNet50 KMeans\n",
    "    resnet_cluster_count = cluster_label_count(K_resnet50_pred, labels)\n",
    "    resnet_cluster_count_pca = cluster_label_count(K_resnet50_pred_pca, labels)\n",
    "\n",
    "    # GMM\n",
    "    g_vgg16_cluster_count_pca = cluster_label_count(G_vgg16_pred_pca, labels)\n",
    "    g_vgg19_cluster_count_pca = cluster_label_count(G_vgg19_pred_pca, labels)\n",
    "    g_resnet50_cluster_count_pca = cluster_label_count(G_resnet50_pred_pca, labels)\n",
    "    \n",
    "    print(\"KMeans VGG16: \")\n",
    "    print(vgg16_cluster_count)\n",
    "    print(\"\\nKMeans VGG16 (PCA): \")\n",
    "    print(vgg16_cluster_count_pca)\n",
    "    print(\"\\nGMM VGG16: \")\n",
    "    print(g_vgg16_cluster_count_pca)\n",
    "    print(\"\\nKMeans VGG19: \")\n",
    "    print(vgg19_cluster_count)\n",
    "    print(\"\\nKMeans VGG19 (PCA): \")\n",
    "    print(vgg19_cluster_count_pca)\n",
    "    print(\"GMM VGG19 (PCA): \")\n",
    "    print(g_vgg19_cluster_count_pca)\n",
    "    print(\"KMeans Resnet50: \")\n",
    "    print(resnet_cluster_count)\n",
    "    print(\"Kmeans Resnet50 (PCA): \")\n",
    "    print(resnet_cluster_count_pca)\n",
    "    print(\"GMM Resnet50 (PCA): \")\n",
    "    print(g_resnet50_cluster_count_pca)\n",
    "    \n",
    "    return  K_vgg16_pred, K_vgg16_pred_pca, K_vgg19_pred, K_vgg19_pred_pca, G_vgg19_pred_pca, images, labels"
   ]
  },
  {
   "cell_type": "code",
   "execution_count": 41,
   "id": "34f83f51",
   "metadata": {
    "scrolled": true
   },
   "outputs": [
    {
     "name": "stdout",
     "output_type": "stream",
     "text": [
      "1500 1500\n",
      "2 random images for code B\n"
     ]
    },
    {
     "data": {
      "image/png": "[encoded data removed]",
      "text/plain": [
       "<Figure size 432x288 with 2 Axes>"
      ]
     },
     "metadata": {
      "needs_background": "light"
     },
     "output_type": "display_data"
    },
    {
     "name": "stdout",
     "output_type": "stream",
     "text": [
      "2 random images for code A\n"
     ]
    },
    {
     "data": {
      "image/png": "[encoded data removed]",
      "text/plain": [
       "<Figure size 432x288 with 2 Axes>"
      ]
     },
     "metadata": {
      "needs_background": "light"
     },
     "output_type": "display_data"
    },
    {
     "name": "stdout",
     "output_type": "stream",
     "text": [
      "2 random images for code C\n"
     ]
    },
    {
     "data": {
      "image/png": "[encoded data removed]",
      "text/plain": [
       "<Figure size 432x288 with 2 Axes>"
      ]
     },
     "metadata": {
      "needs_background": "light"
     },
     "output_type": "display_data"
    },
    {
     "name": "stdout",
     "output_type": "stream",
     "text": [
      "38/38 [==============================] - 194s 5s/step\n",
      "38/38 [==============================] - 65322s 1765s/step\n",
      "38/38 [==============================] - 101s 3s/step\n"
     ]
    },
    {
     "name": "stderr",
     "output_type": "stream",
     "text": [
      "C:\\Users\\asahe\\anaconda3\\lib\\site-packages\\sklearn\\cluster\\_kmeans.py:792: FutureWarning: 'n_jobs' was deprecated in version 0.23 and will be removed in 1.0 (renaming of 0.25).\n",
      "  warnings.warn(\"'n_jobs' was deprecated in version 0.23 and will be\"\n"
     ]
    },
    {
     "name": "stdout",
     "output_type": "stream",
     "text": [
      "Training took 10.42375922203064 seconds\n"
     ]
    },
    {
     "name": "stderr",
     "output_type": "stream",
     "text": [
      "C:\\Users\\asahe\\anaconda3\\lib\\site-packages\\sklearn\\cluster\\_kmeans.py:792: FutureWarning: 'n_jobs' was deprecated in version 0.23 and will be removed in 1.0 (renaming of 0.25).\n",
      "  warnings.warn(\"'n_jobs' was deprecated in version 0.23 and will be\"\n"
     ]
    },
    {
     "name": "stdout",
     "output_type": "stream",
     "text": [
      "Training took 9.61256718635559 seconds\n"
     ]
    },
    {
     "name": "stderr",
     "output_type": "stream",
     "text": [
      "C:\\Users\\asahe\\anaconda3\\lib\\site-packages\\sklearn\\cluster\\_kmeans.py:792: FutureWarning: 'n_jobs' was deprecated in version 0.23 and will be removed in 1.0 (renaming of 0.25).\n",
      "  warnings.warn(\"'n_jobs' was deprecated in version 0.23 and will be\"\n"
     ]
    },
    {
     "name": "stdout",
     "output_type": "stream",
     "text": [
      "Training took 36.095924377441406 seconds\n"
     ]
    },
    {
     "name": "stderr",
     "output_type": "stream",
     "text": [
      "C:\\Users\\asahe\\anaconda3\\lib\\site-packages\\sklearn\\cluster\\_kmeans.py:792: FutureWarning: 'n_jobs' was deprecated in version 0.23 and will be removed in 1.0 (renaming of 0.25).\n",
      "  warnings.warn(\"'n_jobs' was deprecated in version 0.23 and will be\"\n"
     ]
    },
    {
     "name": "stdout",
     "output_type": "stream",
     "text": [
      "Training took 0.43903684616088867 seconds\n"
     ]
    },
    {
     "name": "stderr",
     "output_type": "stream",
     "text": [
      "C:\\Users\\asahe\\anaconda3\\lib\\site-packages\\sklearn\\cluster\\_kmeans.py:792: FutureWarning: 'n_jobs' was deprecated in version 0.23 and will be removed in 1.0 (renaming of 0.25).\n",
      "  warnings.warn(\"'n_jobs' was deprecated in version 0.23 and will be\"\n"
     ]
    },
    {
     "name": "stdout",
     "output_type": "stream",
     "text": [
      "Training took 0.42475175857543945 seconds\n"
     ]
    },
    {
     "name": "stderr",
     "output_type": "stream",
     "text": [
      "C:\\Users\\asahe\\anaconda3\\lib\\site-packages\\sklearn\\cluster\\_kmeans.py:792: FutureWarning: 'n_jobs' was deprecated in version 0.23 and will be removed in 1.0 (renaming of 0.25).\n",
      "  warnings.warn(\"'n_jobs' was deprecated in version 0.23 and will be\"\n"
     ]
    },
    {
     "name": "stdout",
     "output_type": "stream",
     "text": [
      "Training took 0.4829235076904297 seconds\n",
      "Training took 1.9989893436431885 seconds\n",
      "Training took 1.9348554611206055 seconds\n",
      "Training took 1.980574369430542 seconds\n",
      "KMeans VGG16: \n",
      "     0    1    2\n",
      "B    6  390    0\n",
      "A  398    0    0\n",
      "C  197    0  209\n",
      "\n",
      "KMeans VGG16 (PCA): \n",
      "     0    1    2\n",
      "B    6  390    0\n",
      "A  398    0    0\n",
      "C  197    0  209\n",
      "\n",
      "GMM VGG16: \n",
      "     0    1    2\n",
      "B    6  197  193\n",
      "A  398    0    0\n",
      "C    0  209  197\n",
      "\n",
      "KMeans VGG19: \n",
      "     0    1    2\n",
      "B    0  390    6\n",
      "A    0    0  398\n",
      "C  197    0  209\n",
      "\n",
      "KMeans VGG19 (PCA): \n",
      "     0    1    2\n",
      "B  390    6    0\n",
      "A    0  398    0\n",
      "C    0  209  197\n",
      "GMM VGG19 (PCA): \n",
      "     0    1    2\n",
      "B  199  197    0\n",
      "A  398    0    0\n",
      "C    0  209  197\n",
      "KMeans Resnet50: \n",
      "     0    1    2\n",
      "B    0  396    0\n",
      "A    0  265  133\n",
      "C  197    0  209\n",
      "Kmeans Resnet50 (PCA): \n",
      "     0    1    2\n",
      "B    0  396    0\n",
      "A    0  265  133\n",
      "C  197    0  209\n",
      "GMM Resnet50 (PCA): \n",
      "     0    1    2\n",
      "B    2  394    0\n",
      "A  204  194    0\n",
      "C    0  209  197\n"
     ]
    }
   ],
   "source": [
    "codes = [\"A\", \"B\", \"C\"]\n",
    "outputs = image_load_to_cluster_count(codes)"
   ]
  },
  {
   "cell_type": "code",
   "execution_count": 42,
   "id": "a2cbd90e",
   "metadata": {},
   "outputs": [
    {
     "name": "stdout",
     "output_type": "stream",
     "text": [
      "KMeans VGG16: \n",
      "\tF1 Score: 0.82294600   |   Accuracy: 0.82294600\n",
      "KMeans VGG16 (PCA) \n",
      "\tF1 Score: 0.82294600   |   Accuracy: 0.82294600\n",
      "\n",
      "KMeans VGG19:  \n",
      "\tF1 Score: 0.13673536   |   Accuracy: 0.13673536\n",
      "KMeans VGG19 (PCA):  \n",
      "\tF1 Score: 0.81103512   |   Accuracy: 0.81103512\n",
      "GMM VGG19 (PCA) \n",
      "\tF1 Score: 0.64822383   |   Accuracy: 0.64822383\n"
     ]
    }
   ],
   "source": [
    "# Manually adjust these lists so that the index of each label reflects which cluter it lies in\n",
    "vgg16_cluster_code = [\"A\", \"B\", \"C\"]\n",
    "vgg16_cluster_code_pca = [\"A\", \"B\", \"C\"]\n",
    "\n",
    "vgg19_cluster_code = [\"B\", \"A\", \"C\"]\n",
    "vgg19_cluster_code_pca = [\"B\", \"A\", \"C\"]\n",
    "g_vgg19_cluster_code_pca = [\"A\", \"B\", \"C\"]\n",
    "\n",
    "\n",
    "vgg16_pred_codes = [vgg16_cluster_code[x] for x in outputs[0]]\n",
    "vgg16_pred_codes_pca = [vgg16_cluster_code_pca[x] for x in outputs[1]]\n",
    "vgg19_pred_codes = [vgg19_cluster_code[x] for x in outputs[2]]\n",
    "vgg19_pred_codes_pca = [vgg19_cluster_code_pca[x] for x in outputs[3]]\n",
    "g_vgg19_pred_codes_pca = [g_vgg19_cluster_code_pca[x] for x in outputs[4]]\n",
    "\n",
    "print(\"KMeans VGG16:\", print_scores(outputs[-1], vgg16_pred_codes))\n",
    "print(\"KMeans VGG16 (PCA)\", print_scores(outputs[-1], vgg16_pred_codes_pca))\n",
    "\n",
    "print(\"\\nKMeans VGG19: \", print_scores(outputs[-1], vgg19_pred_codes))\n",
    "print(\"KMeans VGG19 (PCA): \", print_scores(outputs[-1], vgg19_pred_codes_pca))\n",
    "print(\"GMM VGG19 (PCA)\", print_scores(outputs[-1], g_vgg19_pred_codes_pca))"
   ]
  },
  {
   "cell_type": "code",
   "execution_count": 43,
   "id": "eb3f1aca",
   "metadata": {},
   "outputs": [
    {
     "name": "stdout",
     "output_type": "stream",
     "text": [
      "1000 1000\n",
      "2 random images for code B\n"
     ]
    },
    {
     "data": {
      "image/png": "[encoded data removed]",
      "text/plain": [
       "<Figure size 432x288 with 2 Axes>"
      ]
     },
     "metadata": {
      "needs_background": "light"
     },
     "output_type": "display_data"
    },
    {
     "name": "stdout",
     "output_type": "stream",
     "text": [
      "2 random images for code A\n"
     ]
    },
    {
     "data": {
      "image/png": "[encoded data removed]",
      "text/plain": [
       "<Figure size 432x288 with 2 Axes>"
      ]
     },
     "metadata": {
      "needs_background": "light"
     },
     "output_type": "display_data"
    },
    {
     "name": "stdout",
     "output_type": "stream",
     "text": [
      "25/25 [==============================] - 138s 5s/step\n",
      "25/25 [==============================] - 162s 6s/step\n",
      "25/25 [==============================] - 58s 2s/step\n"
     ]
    },
    {
     "name": "stderr",
     "output_type": "stream",
     "text": [
      "C:\\Users\\asahe\\anaconda3\\lib\\site-packages\\sklearn\\cluster\\_kmeans.py:792: FutureWarning: 'n_jobs' was deprecated in version 0.23 and will be removed in 1.0 (renaming of 0.25).\n",
      "  warnings.warn(\"'n_jobs' was deprecated in version 0.23 and will be\"\n"
     ]
    },
    {
     "name": "stdout",
     "output_type": "stream",
     "text": [
      "Training took 3.9872634410858154 seconds\n"
     ]
    },
    {
     "name": "stderr",
     "output_type": "stream",
     "text": [
      "C:\\Users\\asahe\\anaconda3\\lib\\site-packages\\sklearn\\cluster\\_kmeans.py:792: FutureWarning: 'n_jobs' was deprecated in version 0.23 and will be removed in 1.0 (renaming of 0.25).\n",
      "  warnings.warn(\"'n_jobs' was deprecated in version 0.23 and will be\"\n"
     ]
    },
    {
     "name": "stdout",
     "output_type": "stream",
     "text": [
      "Training took 4.0089569091796875 seconds\n"
     ]
    },
    {
     "name": "stderr",
     "output_type": "stream",
     "text": [
      "C:\\Users\\asahe\\anaconda3\\lib\\site-packages\\sklearn\\cluster\\_kmeans.py:792: FutureWarning: 'n_jobs' was deprecated in version 0.23 and will be removed in 1.0 (renaming of 0.25).\n",
      "  warnings.warn(\"'n_jobs' was deprecated in version 0.23 and will be\"\n"
     ]
    },
    {
     "name": "stdout",
     "output_type": "stream",
     "text": [
      "Training took 15.109345436096191 seconds\n"
     ]
    },
    {
     "name": "stderr",
     "output_type": "stream",
     "text": [
      "C:\\Users\\asahe\\anaconda3\\lib\\site-packages\\sklearn\\cluster\\_kmeans.py:792: FutureWarning: 'n_jobs' was deprecated in version 0.23 and will be removed in 1.0 (renaming of 0.25).\n",
      "  warnings.warn(\"'n_jobs' was deprecated in version 0.23 and will be\"\n",
      "C:\\Users\\asahe\\anaconda3\\lib\\site-packages\\sklearn\\cluster\\_kmeans.py:792: FutureWarning: 'n_jobs' was deprecated in version 0.23 and will be removed in 1.0 (renaming of 0.25).\n",
      "  warnings.warn(\"'n_jobs' was deprecated in version 0.23 and will be\"\n"
     ]
    },
    {
     "name": "stdout",
     "output_type": "stream",
     "text": [
      "Training took 0.15358853340148926 seconds\n",
      "Training took 0.17039918899536133 seconds\n"
     ]
    },
    {
     "name": "stderr",
     "output_type": "stream",
     "text": [
      "C:\\Users\\asahe\\anaconda3\\lib\\site-packages\\sklearn\\cluster\\_kmeans.py:792: FutureWarning: 'n_jobs' was deprecated in version 0.23 and will be removed in 1.0 (renaming of 0.25).\n",
      "  warnings.warn(\"'n_jobs' was deprecated in version 0.23 and will be\"\n"
     ]
    },
    {
     "name": "stdout",
     "output_type": "stream",
     "text": [
      "Training took 0.18416357040405273 seconds\n",
      "Training took 0.5579447746276855 seconds\n",
      "Training took 0.49765992164611816 seconds\n",
      "Training took 0.4779949188232422 seconds\n",
      "KMeans VGG16: \n",
      "     0    1\n",
      "B  389    6\n",
      "A    0  405\n",
      "\n",
      "KMeans VGG16 (PCA): \n",
      "     0    1\n",
      "B    6  389\n",
      "A  405    0\n",
      "\n",
      "GMM VGG16: \n",
      "     0    1\n",
      "B  389    6\n",
      "A    0  405\n",
      "\n",
      "KMeans VGG19: \n",
      "     0    1\n",
      "B  389    6\n",
      "A    0  405\n",
      "\n",
      "KMeans VGG19 (PCA): \n",
      "     0    1\n",
      "B  389    6\n",
      "A    0  405\n",
      "GMM VGG19 (PCA): \n",
      "     0    1\n",
      "B  389    6\n",
      "A    0  405\n",
      "KMeans Resnet50: \n",
      "     0    1\n",
      "B    0  395\n",
      "A  199  206\n",
      "Kmeans Resnet50 (PCA): \n",
      "     0    1\n",
      "B    0  395\n",
      "A  199  206\n",
      "GMM Resnet50 (PCA): \n",
      "     0    1\n",
      "B  395    0\n",
      "A  192  213\n"
     ]
    }
   ],
   "source": [
    "codes = [\"A\", \"B\"]\n",
    "outputs = image_load_to_cluster_count(codes)"
   ]
  },
  {
   "cell_type": "markdown",
   "id": "9043d43a",
   "metadata": {},
   "source": [
    "By now we can see that ResNet is performing terribly in all our tests. We can also see that PCA and non-PCA are the same, so we can just use the same cluster/code combinations for them, and that GMM has consistently performed same as or much worse than KMeans.\n",
    "\n",
    "The two we will consider now are Kmeans VGG16 and VGG19"
   ]
  },
  {
   "cell_type": "code",
   "execution_count": 44,
   "id": "3b0013a8",
   "metadata": {},
   "outputs": [],
   "source": [
    "# Manually adjust these lists so that the index of each label reflects which cluter it lies in\n",
    "vgg16_cluster_code = [\"B\", \"A\"]\n",
    "vgg19_cluster_code = [\"B\",\"A\"]"
   ]
  },
  {
   "cell_type": "code",
   "execution_count": 45,
   "id": "b8e18130",
   "metadata": {},
   "outputs": [],
   "source": [
    "# Let's define a function for scores\n",
    "\n",
    "def scoring(vgg16_cluster_code, vgg19_cluster_code, outputs):\n",
    "    vgg16_pred_codes = [vgg16_cluster_code[x] for x in outputs[0]]\n",
    "    vgg16_pred_codes_pca = [vgg16_cluster_code[x] for x in outputs[1]]\n",
    "    vgg19_pred_codes = [vgg19_cluster_code[x] for x in outputs[2]]\n",
    "    vgg19_pred_codes_pca = [vgg19_cluster_code[x] for x in outputs[3]]\n",
    "\n",
    "    print(\"KMeans VGG16:\", print_scores(outputs[-1], vgg16_pred_codes))\n",
    "    print(\"KMeans VGG16 (PCA)\", print_scores(outputs[-1], vgg16_pred_codes_pca))\n",
    "\n",
    "    print(\"\\nKMeans VGG19: \", print_scores(outputs[-1], vgg19_pred_codes))\n",
    "    print(\"KMeans VGG19 (PCA): \", print_scores(outputs[-1], vgg19_pred_codes_pca))"
   ]
  },
  {
   "cell_type": "code",
   "execution_count": 46,
   "id": "040b0463",
   "metadata": {},
   "outputs": [
    {
     "name": "stdout",
     "output_type": "stream",
     "text": [
      "KMeans VGG16: \n",
      "\tF1 Score: 0.99249700   |   Accuracy: 0.99249700\n",
      "KMeans VGG16 (PCA) \n",
      "\tF1 Score: 0.00744417   |   Accuracy: 0.00744417\n",
      "\n",
      "KMeans VGG19:  \n",
      "\tF1 Score: 0.99249700   |   Accuracy: 0.99249700\n",
      "KMeans VGG19 (PCA):  \n",
      "\tF1 Score: 0.99249700   |   Accuracy: 0.99249700\n"
     ]
    }
   ],
   "source": [
    "scoring(vgg16_cluster_code, vgg19_cluster_code, outputs)"
   ]
  },
  {
   "cell_type": "code",
   "execution_count": 47,
   "id": "3ea3f2c0",
   "metadata": {},
   "outputs": [
    {
     "name": "stdout",
     "output_type": "stream",
     "text": [
      "1000 1000\n",
      "2 random images for code C\n"
     ]
    },
    {
     "data": {
      "image/png": "[encoded data removed]",
      "text/plain": [
       "<Figure size 432x288 with 2 Axes>"
      ]
     },
     "metadata": {
      "needs_background": "light"
     },
     "output_type": "display_data"
    },
    {
     "name": "stdout",
     "output_type": "stream",
     "text": [
      "2 random images for code D\n"
     ]
    },
    {
     "data": {
      "image/png": "[encoded data removed]",
      "text/plain": [
       "<Figure size 432x288 with 2 Axes>"
      ]
     },
     "metadata": {
      "needs_background": "light"
     },
     "output_type": "display_data"
    },
    {
     "name": "stdout",
     "output_type": "stream",
     "text": [
      "25/25 [==============================] - 127s 5s/step\n",
      "25/25 [==============================] - 161s 6s/step\n",
      "25/25 [==============================] - 58s 2s/step\n"
     ]
    },
    {
     "name": "stderr",
     "output_type": "stream",
     "text": [
      "C:\\Users\\asahe\\anaconda3\\lib\\site-packages\\sklearn\\cluster\\_kmeans.py:792: FutureWarning: 'n_jobs' was deprecated in version 0.23 and will be removed in 1.0 (renaming of 0.25).\n",
      "  warnings.warn(\"'n_jobs' was deprecated in version 0.23 and will be\"\n"
     ]
    },
    {
     "name": "stdout",
     "output_type": "stream",
     "text": [
      "Training took 3.862783432006836 seconds\n"
     ]
    },
    {
     "name": "stderr",
     "output_type": "stream",
     "text": [
      "C:\\Users\\asahe\\anaconda3\\lib\\site-packages\\sklearn\\cluster\\_kmeans.py:792: FutureWarning: 'n_jobs' was deprecated in version 0.23 and will be removed in 1.0 (renaming of 0.25).\n",
      "  warnings.warn(\"'n_jobs' was deprecated in version 0.23 and will be\"\n"
     ]
    },
    {
     "name": "stdout",
     "output_type": "stream",
     "text": [
      "Training took 3.8114326000213623 seconds\n"
     ]
    },
    {
     "name": "stderr",
     "output_type": "stream",
     "text": [
      "C:\\Users\\asahe\\anaconda3\\lib\\site-packages\\sklearn\\cluster\\_kmeans.py:792: FutureWarning: 'n_jobs' was deprecated in version 0.23 and will be removed in 1.0 (renaming of 0.25).\n",
      "  warnings.warn(\"'n_jobs' was deprecated in version 0.23 and will be\"\n"
     ]
    },
    {
     "name": "stdout",
     "output_type": "stream",
     "text": [
      "Training took 22.049950122833252 seconds\n"
     ]
    },
    {
     "name": "stderr",
     "output_type": "stream",
     "text": [
      "C:\\Users\\asahe\\anaconda3\\lib\\site-packages\\sklearn\\cluster\\_kmeans.py:792: FutureWarning: 'n_jobs' was deprecated in version 0.23 and will be removed in 1.0 (renaming of 0.25).\n",
      "  warnings.warn(\"'n_jobs' was deprecated in version 0.23 and will be\"\n",
      "C:\\Users\\asahe\\anaconda3\\lib\\site-packages\\sklearn\\cluster\\_kmeans.py:792: FutureWarning: 'n_jobs' was deprecated in version 0.23 and will be removed in 1.0 (renaming of 0.25).\n",
      "  warnings.warn(\"'n_jobs' was deprecated in version 0.23 and will be\"\n"
     ]
    },
    {
     "name": "stdout",
     "output_type": "stream",
     "text": [
      "Training took 0.1672682762145996 seconds\n",
      "Training took 0.1613006591796875 seconds\n"
     ]
    },
    {
     "name": "stderr",
     "output_type": "stream",
     "text": [
      "C:\\Users\\asahe\\anaconda3\\lib\\site-packages\\sklearn\\cluster\\_kmeans.py:792: FutureWarning: 'n_jobs' was deprecated in version 0.23 and will be removed in 1.0 (renaming of 0.25).\n",
      "  warnings.warn(\"'n_jobs' was deprecated in version 0.23 and will be\"\n"
     ]
    },
    {
     "name": "stdout",
     "output_type": "stream",
     "text": [
      "Training took 0.15623879432678223 seconds\n",
      "Training took 0.5674386024475098 seconds\n",
      "Training took 0.5305721759796143 seconds\n",
      "Training took 0.5215420722961426 seconds\n",
      "KMeans VGG16: \n",
      "     0    1\n",
      "C  208  197\n",
      "D    0  395\n",
      "\n",
      "KMeans VGG16 (PCA): \n",
      "     0    1\n",
      "C  208  197\n",
      "D    0  395\n",
      "\n",
      "GMM VGG16: \n",
      "     0    1\n",
      "C  208  197\n",
      "D  395    0\n",
      "\n",
      "KMeans VGG19: \n",
      "     0    1\n",
      "C  197  208\n",
      "D  395    0\n",
      "\n",
      "KMeans VGG19 (PCA): \n",
      "     0    1\n",
      "C  197  208\n",
      "D  395    0\n",
      "GMM VGG19 (PCA): \n",
      "     0    1\n",
      "C  197  208\n",
      "D  395    0\n",
      "KMeans Resnet50: \n",
      "     0    1\n",
      "C  208  197\n",
      "D    0  395\n",
      "Kmeans Resnet50 (PCA): \n",
      "     0    1\n",
      "C  208  197\n",
      "D    0  395\n",
      "GMM Resnet50 (PCA): \n",
      "     0    1\n",
      "C  208  197\n",
      "D  195  200\n"
     ]
    }
   ],
   "source": [
    "codes = [\"C\", \"D\"]\n",
    "outputs = image_load_to_cluster_count(codes)"
   ]
  },
  {
   "cell_type": "code",
   "execution_count": 48,
   "id": "f4cd7fb7",
   "metadata": {},
   "outputs": [
    {
     "name": "stdout",
     "output_type": "stream",
     "text": [
      "KMeans VGG16: \n",
      "\tF1 Score: 0.73951748   |   Accuracy: 0.73951748\n",
      "KMeans VGG16 (PCA) \n",
      "\tF1 Score: 0.73951748   |   Accuracy: 0.73951748\n",
      "\n",
      "KMeans VGG19:  \n",
      "\tF1 Score: 0.73951748   |   Accuracy: 0.73951748\n",
      "KMeans VGG19 (PCA):  \n",
      "\tF1 Score: 0.73951748   |   Accuracy: 0.73951748\n"
     ]
    }
   ],
   "source": [
    "vgg16_cluster_code = [\"C\", \"D\"]\n",
    "vgg19_cluster_code = [\"D\",\"C\"]\n",
    "scoring(vgg16_cluster_code, vgg19_cluster_code, outputs)"
   ]
  },
  {
   "cell_type": "code",
   "execution_count": null,
   "id": "14923e49",
   "metadata": {},
   "outputs": [],
   "source": []
  },
  {
   "cell_type": "code",
   "execution_count": null,
   "id": "72c39d10",
   "metadata": {},
   "outputs": [],
   "source": []
  },
  {
   "cell_type": "code",
   "execution_count": null,
   "id": "c560befd",
   "metadata": {},
   "outputs": [],
   "source": []
  }
 ],
 "metadata": {
  "kernelspec": {
   "display_name": "Python 3 (ipykernel)",
   "language": "python",
   "name": "python3"
  },
  "language_info": {
   "codemirror_mode": {
    "name": "ipython",
    "version": 3
   },
   "file_extension": ".py",
   "mimetype": "text/x-python",
   "name": "python",
   "nbconvert_exporter": "python",
   "pygments_lexer": "ipython3",
   "version": "3.8.6"
  }
 },
 "nbformat": 4,
 "nbformat_minor": 5
}
